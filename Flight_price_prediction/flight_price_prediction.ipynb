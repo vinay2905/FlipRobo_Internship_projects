{
 "cells": [
  {
   "cell_type": "code",
   "execution_count": 1,
   "metadata": {},
   "outputs": [],
   "source": [
    "import pandas as pd\n",
    "import numpy as np\n",
    "import matplotlib.pyplot as plt\n",
    "import seaborn as sns\n",
    "import warnings\n",
    "warnings.filterwarnings(\"ignore\")"
   ]
  },
  {
   "cell_type": "code",
   "execution_count": 2,
   "metadata": {},
   "outputs": [],
   "source": [
    "flight = pd.read_excel(\"Flight_price_scraped.xlsx\")"
   ]
  },
  {
   "cell_type": "code",
   "execution_count": 3,
   "metadata": {},
   "outputs": [
    {
     "data": {
      "text/html": [
       "<div>\n",
       "<style scoped>\n",
       "    .dataframe tbody tr th:only-of-type {\n",
       "        vertical-align: middle;\n",
       "    }\n",
       "\n",
       "    .dataframe tbody tr th {\n",
       "        vertical-align: top;\n",
       "    }\n",
       "\n",
       "    .dataframe thead th {\n",
       "        text-align: right;\n",
       "    }\n",
       "</style>\n",
       "<table border=\"1\" class=\"dataframe\">\n",
       "  <thead>\n",
       "    <tr style=\"text-align: right;\">\n",
       "      <th></th>\n",
       "      <th>Unnamed: 0</th>\n",
       "      <th>Airline</th>\n",
       "      <th>Date_of_journey</th>\n",
       "      <th>Source</th>\n",
       "      <th>Destination</th>\n",
       "      <th>Departure_time</th>\n",
       "      <th>Arrival_time</th>\n",
       "      <th>Duration</th>\n",
       "      <th>Total_stops</th>\n",
       "      <th>Price</th>\n",
       "    </tr>\n",
       "  </thead>\n",
       "  <tbody>\n",
       "    <tr>\n",
       "      <th>0</th>\n",
       "      <td>0</td>\n",
       "      <td>IndiGo</td>\n",
       "      <td>Sun, Oct 17</td>\n",
       "      <td>Kolkata</td>\n",
       "      <td>Chennai</td>\n",
       "      <td>09:35</td>\n",
       "      <td>19:00</td>\n",
       "      <td>09 h 25 m</td>\n",
       "      <td>2 stop via Ranchi,Patna</td>\n",
       "      <td>₹ 7,518</td>\n",
       "    </tr>\n",
       "    <tr>\n",
       "      <th>1</th>\n",
       "      <td>1</td>\n",
       "      <td>Spicejet</td>\n",
       "      <td>Sun, Oct 17</td>\n",
       "      <td>Kolkata</td>\n",
       "      <td>Chennai</td>\n",
       "      <td>21:45</td>\n",
       "      <td>00:15</td>\n",
       "      <td>02 h 30 m</td>\n",
       "      <td>Non stop</td>\n",
       "      <td>₹ 6,488</td>\n",
       "    </tr>\n",
       "    <tr>\n",
       "      <th>2</th>\n",
       "      <td>2</td>\n",
       "      <td>NaN</td>\n",
       "      <td>Sun, Oct 17</td>\n",
       "      <td>NaN</td>\n",
       "      <td>NaN</td>\n",
       "      <td>NaN</td>\n",
       "      <td>NaN</td>\n",
       "      <td>NaN</td>\n",
       "      <td>NaN</td>\n",
       "      <td>NaN</td>\n",
       "    </tr>\n",
       "    <tr>\n",
       "      <th>3</th>\n",
       "      <td>3</td>\n",
       "      <td>NaN</td>\n",
       "      <td>Sun, Oct 17</td>\n",
       "      <td>NaN</td>\n",
       "      <td>NaN</td>\n",
       "      <td>NaN</td>\n",
       "      <td>NaN</td>\n",
       "      <td>NaN</td>\n",
       "      <td>NaN</td>\n",
       "      <td>NaN</td>\n",
       "    </tr>\n",
       "    <tr>\n",
       "      <th>4</th>\n",
       "      <td>4</td>\n",
       "      <td>IndiGo</td>\n",
       "      <td>Sun, Oct 17</td>\n",
       "      <td>Kolkata</td>\n",
       "      <td>Chennai</td>\n",
       "      <td>09:40</td>\n",
       "      <td>20:25</td>\n",
       "      <td>10 h 45 m</td>\n",
       "      <td>1 stop via Hyderabad</td>\n",
       "      <td>₹ 9,419</td>\n",
       "    </tr>\n",
       "    <tr>\n",
       "      <th>...</th>\n",
       "      <td>...</td>\n",
       "      <td>...</td>\n",
       "      <td>...</td>\n",
       "      <td>...</td>\n",
       "      <td>...</td>\n",
       "      <td>...</td>\n",
       "      <td>...</td>\n",
       "      <td>...</td>\n",
       "      <td>...</td>\n",
       "      <td>...</td>\n",
       "    </tr>\n",
       "    <tr>\n",
       "      <th>8584</th>\n",
       "      <td>8584</td>\n",
       "      <td>IndiGo</td>\n",
       "      <td>Wed, Oct 20</td>\n",
       "      <td>New Delhi</td>\n",
       "      <td>Visakhapatnam</td>\n",
       "      <td>15:00</td>\n",
       "      <td>17:15</td>\n",
       "      <td>02 h 15 m</td>\n",
       "      <td>Non stop</td>\n",
       "      <td>₹ 5,953</td>\n",
       "    </tr>\n",
       "    <tr>\n",
       "      <th>8585</th>\n",
       "      <td>8585</td>\n",
       "      <td>IndiGo</td>\n",
       "      <td>Wed, Oct 20</td>\n",
       "      <td>New Delhi</td>\n",
       "      <td>Visakhapatnam</td>\n",
       "      <td>15:45</td>\n",
       "      <td>18:05</td>\n",
       "      <td>02 h 20 m</td>\n",
       "      <td>Non stop</td>\n",
       "      <td>₹ 5,955</td>\n",
       "    </tr>\n",
       "    <tr>\n",
       "      <th>8586</th>\n",
       "      <td>8586</td>\n",
       "      <td>AirAsia</td>\n",
       "      <td>Wed, Oct 20</td>\n",
       "      <td>New Delhi</td>\n",
       "      <td>Visakhapatnam</td>\n",
       "      <td>02:45</td>\n",
       "      <td>09:45</td>\n",
       "      <td>07 h</td>\n",
       "      <td>1 stop via Kolkata</td>\n",
       "      <td>₹ 5,956</td>\n",
       "    </tr>\n",
       "    <tr>\n",
       "      <th>8587</th>\n",
       "      <td>8587</td>\n",
       "      <td>Spicejet</td>\n",
       "      <td>Wed, Oct 20</td>\n",
       "      <td>New Delhi</td>\n",
       "      <td>Visakhapatnam</td>\n",
       "      <td>07:10</td>\n",
       "      <td>12:25</td>\n",
       "      <td>05 h 15 m</td>\n",
       "      <td>1 stop via Hyderabad</td>\n",
       "      <td>₹ 6,165</td>\n",
       "    </tr>\n",
       "    <tr>\n",
       "      <th>8588</th>\n",
       "      <td>8588</td>\n",
       "      <td>IndiGo</td>\n",
       "      <td>Wed, Oct 20</td>\n",
       "      <td>New Delhi</td>\n",
       "      <td>Visakhapatnam</td>\n",
       "      <td>05:55</td>\n",
       "      <td>12:25</td>\n",
       "      <td>06 h 30 m</td>\n",
       "      <td>1 stop via Hyderabad</td>\n",
       "      <td>₹ 6,270</td>\n",
       "    </tr>\n",
       "  </tbody>\n",
       "</table>\n",
       "<p>8589 rows × 10 columns</p>\n",
       "</div>"
      ],
      "text/plain": [
       "      Unnamed: 0   Airline Date_of_journey     Source    Destination  \\\n",
       "0              0    IndiGo     Sun, Oct 17    Kolkata        Chennai   \n",
       "1              1  Spicejet     Sun, Oct 17    Kolkata        Chennai   \n",
       "2              2       NaN     Sun, Oct 17        NaN            NaN   \n",
       "3              3       NaN     Sun, Oct 17        NaN            NaN   \n",
       "4              4    IndiGo     Sun, Oct 17    Kolkata        Chennai   \n",
       "...          ...       ...             ...        ...            ...   \n",
       "8584        8584    IndiGo     Wed, Oct 20  New Delhi  Visakhapatnam   \n",
       "8585        8585    IndiGo     Wed, Oct 20  New Delhi  Visakhapatnam   \n",
       "8586        8586   AirAsia     Wed, Oct 20  New Delhi  Visakhapatnam   \n",
       "8587        8587  Spicejet     Wed, Oct 20  New Delhi  Visakhapatnam   \n",
       "8588        8588    IndiGo     Wed, Oct 20  New Delhi  Visakhapatnam   \n",
       "\n",
       "     Departure_time Arrival_time   Duration              Total_stops    Price  \n",
       "0             09:35        19:00  09 h 25 m  2 stop via Ranchi,Patna  ₹ 7,518  \n",
       "1             21:45        00:15  02 h 30 m                 Non stop  ₹ 6,488  \n",
       "2               NaN          NaN        NaN                      NaN      NaN  \n",
       "3               NaN          NaN        NaN                      NaN      NaN  \n",
       "4             09:40        20:25  10 h 45 m     1 stop via Hyderabad  ₹ 9,419  \n",
       "...             ...          ...        ...                      ...      ...  \n",
       "8584          15:00        17:15  02 h 15 m                 Non stop  ₹ 5,953  \n",
       "8585          15:45        18:05  02 h 20 m                 Non stop  ₹ 5,955  \n",
       "8586          02:45        09:45       07 h       1 stop via Kolkata  ₹ 5,956  \n",
       "8587          07:10        12:25  05 h 15 m     1 stop via Hyderabad  ₹ 6,165  \n",
       "8588          05:55        12:25  06 h 30 m     1 stop via Hyderabad  ₹ 6,270  \n",
       "\n",
       "[8589 rows x 10 columns]"
      ]
     },
     "execution_count": 3,
     "metadata": {},
     "output_type": "execute_result"
    }
   ],
   "source": [
    "flight"
   ]
  },
  {
   "cell_type": "markdown",
   "metadata": {},
   "source": [
    "# Preprocessing"
   ]
  },
  {
   "cell_type": "code",
   "execution_count": 4,
   "metadata": {},
   "outputs": [],
   "source": [
    "flight.dropna(inplace=True)"
   ]
  },
  {
   "cell_type": "markdown",
   "metadata": {},
   "source": [
    "Dropping null values."
   ]
  },
  {
   "cell_type": "code",
   "execution_count": 5,
   "metadata": {},
   "outputs": [],
   "source": [
    "flight.drop(['Unnamed: 0'], axis = 1, inplace=True)"
   ]
  },
  {
   "cell_type": "code",
   "execution_count": 6,
   "metadata": {},
   "outputs": [
    {
     "data": {
      "text/html": [
       "<div>\n",
       "<style scoped>\n",
       "    .dataframe tbody tr th:only-of-type {\n",
       "        vertical-align: middle;\n",
       "    }\n",
       "\n",
       "    .dataframe tbody tr th {\n",
       "        vertical-align: top;\n",
       "    }\n",
       "\n",
       "    .dataframe thead th {\n",
       "        text-align: right;\n",
       "    }\n",
       "</style>\n",
       "<table border=\"1\" class=\"dataframe\">\n",
       "  <thead>\n",
       "    <tr style=\"text-align: right;\">\n",
       "      <th></th>\n",
       "      <th>Airline</th>\n",
       "      <th>Date_of_journey</th>\n",
       "      <th>Source</th>\n",
       "      <th>Destination</th>\n",
       "      <th>Departure_time</th>\n",
       "      <th>Arrival_time</th>\n",
       "      <th>Duration</th>\n",
       "      <th>Total_stops</th>\n",
       "      <th>Price</th>\n",
       "    </tr>\n",
       "  </thead>\n",
       "  <tbody>\n",
       "    <tr>\n",
       "      <th>0</th>\n",
       "      <td>IndiGo</td>\n",
       "      <td>Sun, Oct 17</td>\n",
       "      <td>Kolkata</td>\n",
       "      <td>Chennai</td>\n",
       "      <td>09:35</td>\n",
       "      <td>19:00</td>\n",
       "      <td>09 h 25 m</td>\n",
       "      <td>2 stop via Ranchi,Patna</td>\n",
       "      <td>₹ 7,518</td>\n",
       "    </tr>\n",
       "    <tr>\n",
       "      <th>1</th>\n",
       "      <td>Spicejet</td>\n",
       "      <td>Sun, Oct 17</td>\n",
       "      <td>Kolkata</td>\n",
       "      <td>Chennai</td>\n",
       "      <td>21:45</td>\n",
       "      <td>00:15</td>\n",
       "      <td>02 h 30 m</td>\n",
       "      <td>Non stop</td>\n",
       "      <td>₹ 6,488</td>\n",
       "    </tr>\n",
       "    <tr>\n",
       "      <th>4</th>\n",
       "      <td>IndiGo</td>\n",
       "      <td>Sun, Oct 17</td>\n",
       "      <td>Kolkata</td>\n",
       "      <td>Chennai</td>\n",
       "      <td>09:40</td>\n",
       "      <td>20:25</td>\n",
       "      <td>10 h 45 m</td>\n",
       "      <td>1 stop via Hyderabad</td>\n",
       "      <td>₹ 9,419</td>\n",
       "    </tr>\n",
       "    <tr>\n",
       "      <th>5</th>\n",
       "      <td>IndiGo</td>\n",
       "      <td>Sun, Oct 17</td>\n",
       "      <td>Kolkata</td>\n",
       "      <td>Chennai</td>\n",
       "      <td>21:55</td>\n",
       "      <td>08:15</td>\n",
       "      <td>10 h 20 m</td>\n",
       "      <td>1 stop via Bengaluru</td>\n",
       "      <td>₹ 9,419</td>\n",
       "    </tr>\n",
       "    <tr>\n",
       "      <th>6</th>\n",
       "      <td>IndiGo</td>\n",
       "      <td>Sun, Oct 17</td>\n",
       "      <td>Kolkata</td>\n",
       "      <td>Chennai</td>\n",
       "      <td>08:15</td>\n",
       "      <td>13:40</td>\n",
       "      <td>05 h 25 m</td>\n",
       "      <td>1 stop via Visakhapatnam</td>\n",
       "      <td>₹ 9,907</td>\n",
       "    </tr>\n",
       "  </tbody>\n",
       "</table>\n",
       "</div>"
      ],
      "text/plain": [
       "    Airline Date_of_journey   Source Destination Departure_time Arrival_time  \\\n",
       "0    IndiGo     Sun, Oct 17  Kolkata     Chennai          09:35        19:00   \n",
       "1  Spicejet     Sun, Oct 17  Kolkata     Chennai          21:45        00:15   \n",
       "4    IndiGo     Sun, Oct 17  Kolkata     Chennai          09:40        20:25   \n",
       "5    IndiGo     Sun, Oct 17  Kolkata     Chennai          21:55        08:15   \n",
       "6    IndiGo     Sun, Oct 17  Kolkata     Chennai          08:15        13:40   \n",
       "\n",
       "    Duration               Total_stops    Price  \n",
       "0  09 h 25 m   2 stop via Ranchi,Patna  ₹ 7,518  \n",
       "1  02 h 30 m                  Non stop  ₹ 6,488  \n",
       "4  10 h 45 m      1 stop via Hyderabad  ₹ 9,419  \n",
       "5  10 h 20 m      1 stop via Bengaluru  ₹ 9,419  \n",
       "6  05 h 25 m  1 stop via Visakhapatnam  ₹ 9,907  "
      ]
     },
     "execution_count": 6,
     "metadata": {},
     "output_type": "execute_result"
    }
   ],
   "source": [
    "flight.head()"
   ]
  },
  {
   "cell_type": "code",
   "execution_count": 7,
   "metadata": {},
   "outputs": [
    {
     "data": {
      "text/plain": [
       "IndiGo                            3375\n",
       "AirAsia                            800\n",
       "Go First                           723\n",
       "Vistara                            425\n",
       "Air India                          364\n",
       "Spicejet                           355\n",
       "IndiGo, AirAsia                     36\n",
       "AirAsia, IndiGo                     28\n",
       "IndiGo, Go First                    24\n",
       "Qatar Airways, Vistara              22\n",
       "AirAsia, Go First                   21\n",
       "British Airways, Vistara            16\n",
       "Go First, IndiGo                    13\n",
       "Spicejet, IndiGo                    12\n",
       "Air France, Vistara                 11\n",
       "Air India, IndiGo                   10\n",
       "Vistara, IndiGo                      9\n",
       "IndiGo, Air India                    7\n",
       "IndiGo, Spicejet                     6\n",
       "Vistara, AirAsia                     5\n",
       "Lufthansa, Vistara                   5\n",
       "Lufthansa, Air Canada, Vistara       5\n",
       "TruJet                               5\n",
       "Spicejet, Go First                   5\n",
       "KLM Royal Dutch, Vistara             5\n",
       "Spicejet, Air India                  3\n",
       "Air India, Go First                  3\n",
       "Vistara, Go First                    3\n",
       "AirAsia, Air India                   3\n",
       "Air India, AirAsia                   3\n",
       "Go First, AirAsia                    3\n",
       "Go First, Spicejet                   2\n",
       "IndiGo, Vistara                      2\n",
       "Go First, Air India                  2\n",
       "Star Air                             1\n",
       "Go First, Vistara                    1\n",
       "AirAsia, Vistara                     1\n",
       "AirAsia, Spicejet                    1\n",
       "Spicejet, AirAsia                    1\n",
       "Spicejet, Vistara                    1\n",
       "Emirates, Vistara                    1\n",
       "Name: Airline, dtype: int64"
      ]
     },
     "execution_count": 7,
     "metadata": {},
     "output_type": "execute_result"
    }
   ],
   "source": [
    "flight['Airline'].value_counts()"
   ]
  },
  {
   "cell_type": "code",
   "execution_count": 8,
   "metadata": {},
   "outputs": [],
   "source": [
    "airline = ['IndiGo', 'AirAsia', 'Go First', 'Vistara', 'Air India', 'Spicejet']"
   ]
  },
  {
   "cell_type": "code",
   "execution_count": 9,
   "metadata": {},
   "outputs": [],
   "source": [
    "flight_cleaned = flight[~flight.Airline.str.contains(',')]"
   ]
  },
  {
   "cell_type": "code",
   "execution_count": 10,
   "metadata": {},
   "outputs": [
    {
     "data": {
      "text/plain": [
       "(6048, 9)"
      ]
     },
     "execution_count": 10,
     "metadata": {},
     "output_type": "execute_result"
    }
   ],
   "source": [
    "flight_cleaned.shape"
   ]
  },
  {
   "cell_type": "code",
   "execution_count": 11,
   "metadata": {},
   "outputs": [
    {
     "data": {
      "text/html": [
       "<div>\n",
       "<style scoped>\n",
       "    .dataframe tbody tr th:only-of-type {\n",
       "        vertical-align: middle;\n",
       "    }\n",
       "\n",
       "    .dataframe tbody tr th {\n",
       "        vertical-align: top;\n",
       "    }\n",
       "\n",
       "    .dataframe thead th {\n",
       "        text-align: right;\n",
       "    }\n",
       "</style>\n",
       "<table border=\"1\" class=\"dataframe\">\n",
       "  <thead>\n",
       "    <tr style=\"text-align: right;\">\n",
       "      <th></th>\n",
       "      <th>Airline</th>\n",
       "      <th>Date_of_journey</th>\n",
       "      <th>Source</th>\n",
       "      <th>Destination</th>\n",
       "      <th>Departure_time</th>\n",
       "      <th>Arrival_time</th>\n",
       "      <th>Duration</th>\n",
       "      <th>Total_stops</th>\n",
       "      <th>Price</th>\n",
       "    </tr>\n",
       "  </thead>\n",
       "  <tbody>\n",
       "    <tr>\n",
       "      <th>0</th>\n",
       "      <td>IndiGo</td>\n",
       "      <td>Sun, Oct 17</td>\n",
       "      <td>Kolkata</td>\n",
       "      <td>Chennai</td>\n",
       "      <td>09:35</td>\n",
       "      <td>19:00</td>\n",
       "      <td>09 h 25 m</td>\n",
       "      <td>2 stop via Ranchi,Patna</td>\n",
       "      <td>₹ 7,518</td>\n",
       "    </tr>\n",
       "    <tr>\n",
       "      <th>1</th>\n",
       "      <td>Spicejet</td>\n",
       "      <td>Sun, Oct 17</td>\n",
       "      <td>Kolkata</td>\n",
       "      <td>Chennai</td>\n",
       "      <td>21:45</td>\n",
       "      <td>00:15</td>\n",
       "      <td>02 h 30 m</td>\n",
       "      <td>Non stop</td>\n",
       "      <td>₹ 6,488</td>\n",
       "    </tr>\n",
       "    <tr>\n",
       "      <th>4</th>\n",
       "      <td>IndiGo</td>\n",
       "      <td>Sun, Oct 17</td>\n",
       "      <td>Kolkata</td>\n",
       "      <td>Chennai</td>\n",
       "      <td>09:40</td>\n",
       "      <td>20:25</td>\n",
       "      <td>10 h 45 m</td>\n",
       "      <td>1 stop via Hyderabad</td>\n",
       "      <td>₹ 9,419</td>\n",
       "    </tr>\n",
       "    <tr>\n",
       "      <th>5</th>\n",
       "      <td>IndiGo</td>\n",
       "      <td>Sun, Oct 17</td>\n",
       "      <td>Kolkata</td>\n",
       "      <td>Chennai</td>\n",
       "      <td>21:55</td>\n",
       "      <td>08:15</td>\n",
       "      <td>10 h 20 m</td>\n",
       "      <td>1 stop via Bengaluru</td>\n",
       "      <td>₹ 9,419</td>\n",
       "    </tr>\n",
       "    <tr>\n",
       "      <th>6</th>\n",
       "      <td>IndiGo</td>\n",
       "      <td>Sun, Oct 17</td>\n",
       "      <td>Kolkata</td>\n",
       "      <td>Chennai</td>\n",
       "      <td>08:15</td>\n",
       "      <td>13:40</td>\n",
       "      <td>05 h 25 m</td>\n",
       "      <td>1 stop via Visakhapatnam</td>\n",
       "      <td>₹ 9,907</td>\n",
       "    </tr>\n",
       "  </tbody>\n",
       "</table>\n",
       "</div>"
      ],
      "text/plain": [
       "    Airline Date_of_journey   Source Destination Departure_time Arrival_time  \\\n",
       "0    IndiGo     Sun, Oct 17  Kolkata     Chennai          09:35        19:00   \n",
       "1  Spicejet     Sun, Oct 17  Kolkata     Chennai          21:45        00:15   \n",
       "4    IndiGo     Sun, Oct 17  Kolkata     Chennai          09:40        20:25   \n",
       "5    IndiGo     Sun, Oct 17  Kolkata     Chennai          21:55        08:15   \n",
       "6    IndiGo     Sun, Oct 17  Kolkata     Chennai          08:15        13:40   \n",
       "\n",
       "    Duration               Total_stops    Price  \n",
       "0  09 h 25 m   2 stop via Ranchi,Patna  ₹ 7,518  \n",
       "1  02 h 30 m                  Non stop  ₹ 6,488  \n",
       "4  10 h 45 m      1 stop via Hyderabad  ₹ 9,419  \n",
       "5  10 h 20 m      1 stop via Bengaluru  ₹ 9,419  \n",
       "6  05 h 25 m  1 stop via Visakhapatnam  ₹ 9,907  "
      ]
     },
     "execution_count": 11,
     "metadata": {},
     "output_type": "execute_result"
    }
   ],
   "source": [
    "flight_cleaned.head()"
   ]
  },
  {
   "cell_type": "code",
   "execution_count": 12,
   "metadata": {},
   "outputs": [
    {
     "data": {
      "text/html": [
       "<div>\n",
       "<style scoped>\n",
       "    .dataframe tbody tr th:only-of-type {\n",
       "        vertical-align: middle;\n",
       "    }\n",
       "\n",
       "    .dataframe tbody tr th {\n",
       "        vertical-align: top;\n",
       "    }\n",
       "\n",
       "    .dataframe thead th {\n",
       "        text-align: right;\n",
       "    }\n",
       "</style>\n",
       "<table border=\"1\" class=\"dataframe\">\n",
       "  <thead>\n",
       "    <tr style=\"text-align: right;\">\n",
       "      <th></th>\n",
       "      <th>Airline</th>\n",
       "      <th>Date_of_journey</th>\n",
       "      <th>Source</th>\n",
       "      <th>Destination</th>\n",
       "      <th>Departure_time</th>\n",
       "      <th>Arrival_time</th>\n",
       "      <th>Duration</th>\n",
       "      <th>Total_stops</th>\n",
       "      <th>Price</th>\n",
       "    </tr>\n",
       "  </thead>\n",
       "  <tbody>\n",
       "    <tr>\n",
       "      <th>0</th>\n",
       "      <td>IndiGo</td>\n",
       "      <td>Sun, Oct 17</td>\n",
       "      <td>Kolkata</td>\n",
       "      <td>Chennai</td>\n",
       "      <td>09:35</td>\n",
       "      <td>19:00</td>\n",
       "      <td>09 h 25 m</td>\n",
       "      <td>2 stop via Ranchi,Patna</td>\n",
       "      <td>₹ 7,518</td>\n",
       "    </tr>\n",
       "    <tr>\n",
       "      <th>1</th>\n",
       "      <td>Spicejet</td>\n",
       "      <td>Sun, Oct 17</td>\n",
       "      <td>Kolkata</td>\n",
       "      <td>Chennai</td>\n",
       "      <td>21:45</td>\n",
       "      <td>00:15</td>\n",
       "      <td>02 h 30 m</td>\n",
       "      <td>Non stop</td>\n",
       "      <td>₹ 6,488</td>\n",
       "    </tr>\n",
       "    <tr>\n",
       "      <th>2</th>\n",
       "      <td>IndiGo</td>\n",
       "      <td>Sun, Oct 17</td>\n",
       "      <td>Kolkata</td>\n",
       "      <td>Chennai</td>\n",
       "      <td>09:40</td>\n",
       "      <td>20:25</td>\n",
       "      <td>10 h 45 m</td>\n",
       "      <td>1 stop via Hyderabad</td>\n",
       "      <td>₹ 9,419</td>\n",
       "    </tr>\n",
       "    <tr>\n",
       "      <th>3</th>\n",
       "      <td>IndiGo</td>\n",
       "      <td>Sun, Oct 17</td>\n",
       "      <td>Kolkata</td>\n",
       "      <td>Chennai</td>\n",
       "      <td>21:55</td>\n",
       "      <td>08:15</td>\n",
       "      <td>10 h 20 m</td>\n",
       "      <td>1 stop via Bengaluru</td>\n",
       "      <td>₹ 9,419</td>\n",
       "    </tr>\n",
       "    <tr>\n",
       "      <th>4</th>\n",
       "      <td>IndiGo</td>\n",
       "      <td>Sun, Oct 17</td>\n",
       "      <td>Kolkata</td>\n",
       "      <td>Chennai</td>\n",
       "      <td>08:15</td>\n",
       "      <td>13:40</td>\n",
       "      <td>05 h 25 m</td>\n",
       "      <td>1 stop via Visakhapatnam</td>\n",
       "      <td>₹ 9,907</td>\n",
       "    </tr>\n",
       "    <tr>\n",
       "      <th>...</th>\n",
       "      <td>...</td>\n",
       "      <td>...</td>\n",
       "      <td>...</td>\n",
       "      <td>...</td>\n",
       "      <td>...</td>\n",
       "      <td>...</td>\n",
       "      <td>...</td>\n",
       "      <td>...</td>\n",
       "      <td>...</td>\n",
       "    </tr>\n",
       "    <tr>\n",
       "      <th>6043</th>\n",
       "      <td>IndiGo</td>\n",
       "      <td>Wed, Oct 20</td>\n",
       "      <td>New Delhi</td>\n",
       "      <td>Visakhapatnam</td>\n",
       "      <td>15:00</td>\n",
       "      <td>17:15</td>\n",
       "      <td>02 h 15 m</td>\n",
       "      <td>Non stop</td>\n",
       "      <td>₹ 5,953</td>\n",
       "    </tr>\n",
       "    <tr>\n",
       "      <th>6044</th>\n",
       "      <td>IndiGo</td>\n",
       "      <td>Wed, Oct 20</td>\n",
       "      <td>New Delhi</td>\n",
       "      <td>Visakhapatnam</td>\n",
       "      <td>15:45</td>\n",
       "      <td>18:05</td>\n",
       "      <td>02 h 20 m</td>\n",
       "      <td>Non stop</td>\n",
       "      <td>₹ 5,955</td>\n",
       "    </tr>\n",
       "    <tr>\n",
       "      <th>6045</th>\n",
       "      <td>AirAsia</td>\n",
       "      <td>Wed, Oct 20</td>\n",
       "      <td>New Delhi</td>\n",
       "      <td>Visakhapatnam</td>\n",
       "      <td>02:45</td>\n",
       "      <td>09:45</td>\n",
       "      <td>07 h</td>\n",
       "      <td>1 stop via Kolkata</td>\n",
       "      <td>₹ 5,956</td>\n",
       "    </tr>\n",
       "    <tr>\n",
       "      <th>6046</th>\n",
       "      <td>Spicejet</td>\n",
       "      <td>Wed, Oct 20</td>\n",
       "      <td>New Delhi</td>\n",
       "      <td>Visakhapatnam</td>\n",
       "      <td>07:10</td>\n",
       "      <td>12:25</td>\n",
       "      <td>05 h 15 m</td>\n",
       "      <td>1 stop via Hyderabad</td>\n",
       "      <td>₹ 6,165</td>\n",
       "    </tr>\n",
       "    <tr>\n",
       "      <th>6047</th>\n",
       "      <td>IndiGo</td>\n",
       "      <td>Wed, Oct 20</td>\n",
       "      <td>New Delhi</td>\n",
       "      <td>Visakhapatnam</td>\n",
       "      <td>05:55</td>\n",
       "      <td>12:25</td>\n",
       "      <td>06 h 30 m</td>\n",
       "      <td>1 stop via Hyderabad</td>\n",
       "      <td>₹ 6,270</td>\n",
       "    </tr>\n",
       "  </tbody>\n",
       "</table>\n",
       "<p>6048 rows × 9 columns</p>\n",
       "</div>"
      ],
      "text/plain": [
       "       Airline Date_of_journey     Source    Destination Departure_time  \\\n",
       "0       IndiGo     Sun, Oct 17    Kolkata        Chennai          09:35   \n",
       "1     Spicejet     Sun, Oct 17    Kolkata        Chennai          21:45   \n",
       "2       IndiGo     Sun, Oct 17    Kolkata        Chennai          09:40   \n",
       "3       IndiGo     Sun, Oct 17    Kolkata        Chennai          21:55   \n",
       "4       IndiGo     Sun, Oct 17    Kolkata        Chennai          08:15   \n",
       "...        ...             ...        ...            ...            ...   \n",
       "6043    IndiGo     Wed, Oct 20  New Delhi  Visakhapatnam          15:00   \n",
       "6044    IndiGo     Wed, Oct 20  New Delhi  Visakhapatnam          15:45   \n",
       "6045   AirAsia     Wed, Oct 20  New Delhi  Visakhapatnam          02:45   \n",
       "6046  Spicejet     Wed, Oct 20  New Delhi  Visakhapatnam          07:10   \n",
       "6047    IndiGo     Wed, Oct 20  New Delhi  Visakhapatnam          05:55   \n",
       "\n",
       "     Arrival_time   Duration               Total_stops    Price  \n",
       "0           19:00  09 h 25 m   2 stop via Ranchi,Patna  ₹ 7,518  \n",
       "1           00:15  02 h 30 m                  Non stop  ₹ 6,488  \n",
       "2           20:25  10 h 45 m      1 stop via Hyderabad  ₹ 9,419  \n",
       "3           08:15  10 h 20 m      1 stop via Bengaluru  ₹ 9,419  \n",
       "4           13:40  05 h 25 m  1 stop via Visakhapatnam  ₹ 9,907  \n",
       "...           ...        ...                       ...      ...  \n",
       "6043        17:15  02 h 15 m                  Non stop  ₹ 5,953  \n",
       "6044        18:05  02 h 20 m                  Non stop  ₹ 5,955  \n",
       "6045        09:45       07 h        1 stop via Kolkata  ₹ 5,956  \n",
       "6046        12:25  05 h 15 m      1 stop via Hyderabad  ₹ 6,165  \n",
       "6047        12:25  06 h 30 m      1 stop via Hyderabad  ₹ 6,270  \n",
       "\n",
       "[6048 rows x 9 columns]"
      ]
     },
     "execution_count": 12,
     "metadata": {},
     "output_type": "execute_result"
    }
   ],
   "source": [
    "flight_cleaned.reset_index(drop=True)"
   ]
  },
  {
   "cell_type": "code",
   "execution_count": 13,
   "metadata": {},
   "outputs": [
    {
     "data": {
      "text/plain": [
       "Kolkata      1526\n",
       "Chennai      1214\n",
       "Mumbai       1136\n",
       "Hyderabad     909\n",
       "Kochi         689\n",
       "New Delhi     564\n",
       "Munich         10\n",
       "Name: Source, dtype: int64"
      ]
     },
     "execution_count": 13,
     "metadata": {},
     "output_type": "execute_result"
    }
   ],
   "source": [
    "flight_cleaned['Source'].value_counts()"
   ]
  },
  {
   "cell_type": "code",
   "execution_count": 14,
   "metadata": {},
   "outputs": [
    {
     "data": {
      "text/plain": [
       "New Delhi        976\n",
       "Patna            577\n",
       "Srinagar         506\n",
       "Ranchi           479\n",
       "Ahmedabad        454\n",
       "Visakhapatnam    450\n",
       "Bengaluru        432\n",
       "Bhubaneswar      394\n",
       "Chandigarh       379\n",
       "Hyderabad        341\n",
       "Jaipur           312\n",
       "Kochi            308\n",
       "Mumbai           228\n",
       "Chennai          136\n",
       "Kolkata           76\n",
       "Name: Destination, dtype: int64"
      ]
     },
     "execution_count": 14,
     "metadata": {},
     "output_type": "execute_result"
    }
   ],
   "source": [
    "flight_cleaned['Destination'].value_counts()"
   ]
  },
  {
   "cell_type": "code",
   "execution_count": 15,
   "metadata": {},
   "outputs": [],
   "source": [
    "flight1 = flight_cleaned[~flight_cleaned.Source.str.startswith('Mun')]"
   ]
  },
  {
   "cell_type": "code",
   "execution_count": 16,
   "metadata": {},
   "outputs": [
    {
     "data": {
      "text/html": [
       "<div>\n",
       "<style scoped>\n",
       "    .dataframe tbody tr th:only-of-type {\n",
       "        vertical-align: middle;\n",
       "    }\n",
       "\n",
       "    .dataframe tbody tr th {\n",
       "        vertical-align: top;\n",
       "    }\n",
       "\n",
       "    .dataframe thead th {\n",
       "        text-align: right;\n",
       "    }\n",
       "</style>\n",
       "<table border=\"1\" class=\"dataframe\">\n",
       "  <thead>\n",
       "    <tr style=\"text-align: right;\">\n",
       "      <th></th>\n",
       "      <th>Airline</th>\n",
       "      <th>Date_of_journey</th>\n",
       "      <th>Source</th>\n",
       "      <th>Destination</th>\n",
       "      <th>Departure_time</th>\n",
       "      <th>Arrival_time</th>\n",
       "      <th>Duration</th>\n",
       "      <th>Total_stops</th>\n",
       "      <th>Price</th>\n",
       "    </tr>\n",
       "  </thead>\n",
       "  <tbody>\n",
       "    <tr>\n",
       "      <th>0</th>\n",
       "      <td>IndiGo</td>\n",
       "      <td>Sun, Oct 17</td>\n",
       "      <td>Kolkata</td>\n",
       "      <td>Chennai</td>\n",
       "      <td>09:35</td>\n",
       "      <td>19:00</td>\n",
       "      <td>09 h 25 m</td>\n",
       "      <td>2 stop via Ranchi,Patna</td>\n",
       "      <td>₹ 7,518</td>\n",
       "    </tr>\n",
       "    <tr>\n",
       "      <th>1</th>\n",
       "      <td>Spicejet</td>\n",
       "      <td>Sun, Oct 17</td>\n",
       "      <td>Kolkata</td>\n",
       "      <td>Chennai</td>\n",
       "      <td>21:45</td>\n",
       "      <td>00:15</td>\n",
       "      <td>02 h 30 m</td>\n",
       "      <td>Non stop</td>\n",
       "      <td>₹ 6,488</td>\n",
       "    </tr>\n",
       "    <tr>\n",
       "      <th>2</th>\n",
       "      <td>IndiGo</td>\n",
       "      <td>Sun, Oct 17</td>\n",
       "      <td>Kolkata</td>\n",
       "      <td>Chennai</td>\n",
       "      <td>09:40</td>\n",
       "      <td>20:25</td>\n",
       "      <td>10 h 45 m</td>\n",
       "      <td>1 stop via Hyderabad</td>\n",
       "      <td>₹ 9,419</td>\n",
       "    </tr>\n",
       "    <tr>\n",
       "      <th>3</th>\n",
       "      <td>IndiGo</td>\n",
       "      <td>Sun, Oct 17</td>\n",
       "      <td>Kolkata</td>\n",
       "      <td>Chennai</td>\n",
       "      <td>21:55</td>\n",
       "      <td>08:15</td>\n",
       "      <td>10 h 20 m</td>\n",
       "      <td>1 stop via Bengaluru</td>\n",
       "      <td>₹ 9,419</td>\n",
       "    </tr>\n",
       "    <tr>\n",
       "      <th>4</th>\n",
       "      <td>IndiGo</td>\n",
       "      <td>Sun, Oct 17</td>\n",
       "      <td>Kolkata</td>\n",
       "      <td>Chennai</td>\n",
       "      <td>08:15</td>\n",
       "      <td>13:40</td>\n",
       "      <td>05 h 25 m</td>\n",
       "      <td>1 stop via Visakhapatnam</td>\n",
       "      <td>₹ 9,907</td>\n",
       "    </tr>\n",
       "    <tr>\n",
       "      <th>...</th>\n",
       "      <td>...</td>\n",
       "      <td>...</td>\n",
       "      <td>...</td>\n",
       "      <td>...</td>\n",
       "      <td>...</td>\n",
       "      <td>...</td>\n",
       "      <td>...</td>\n",
       "      <td>...</td>\n",
       "      <td>...</td>\n",
       "    </tr>\n",
       "    <tr>\n",
       "      <th>6033</th>\n",
       "      <td>IndiGo</td>\n",
       "      <td>Wed, Oct 20</td>\n",
       "      <td>New Delhi</td>\n",
       "      <td>Visakhapatnam</td>\n",
       "      <td>15:00</td>\n",
       "      <td>17:15</td>\n",
       "      <td>02 h 15 m</td>\n",
       "      <td>Non stop</td>\n",
       "      <td>₹ 5,953</td>\n",
       "    </tr>\n",
       "    <tr>\n",
       "      <th>6034</th>\n",
       "      <td>IndiGo</td>\n",
       "      <td>Wed, Oct 20</td>\n",
       "      <td>New Delhi</td>\n",
       "      <td>Visakhapatnam</td>\n",
       "      <td>15:45</td>\n",
       "      <td>18:05</td>\n",
       "      <td>02 h 20 m</td>\n",
       "      <td>Non stop</td>\n",
       "      <td>₹ 5,955</td>\n",
       "    </tr>\n",
       "    <tr>\n",
       "      <th>6035</th>\n",
       "      <td>AirAsia</td>\n",
       "      <td>Wed, Oct 20</td>\n",
       "      <td>New Delhi</td>\n",
       "      <td>Visakhapatnam</td>\n",
       "      <td>02:45</td>\n",
       "      <td>09:45</td>\n",
       "      <td>07 h</td>\n",
       "      <td>1 stop via Kolkata</td>\n",
       "      <td>₹ 5,956</td>\n",
       "    </tr>\n",
       "    <tr>\n",
       "      <th>6036</th>\n",
       "      <td>Spicejet</td>\n",
       "      <td>Wed, Oct 20</td>\n",
       "      <td>New Delhi</td>\n",
       "      <td>Visakhapatnam</td>\n",
       "      <td>07:10</td>\n",
       "      <td>12:25</td>\n",
       "      <td>05 h 15 m</td>\n",
       "      <td>1 stop via Hyderabad</td>\n",
       "      <td>₹ 6,165</td>\n",
       "    </tr>\n",
       "    <tr>\n",
       "      <th>6037</th>\n",
       "      <td>IndiGo</td>\n",
       "      <td>Wed, Oct 20</td>\n",
       "      <td>New Delhi</td>\n",
       "      <td>Visakhapatnam</td>\n",
       "      <td>05:55</td>\n",
       "      <td>12:25</td>\n",
       "      <td>06 h 30 m</td>\n",
       "      <td>1 stop via Hyderabad</td>\n",
       "      <td>₹ 6,270</td>\n",
       "    </tr>\n",
       "  </tbody>\n",
       "</table>\n",
       "<p>6038 rows × 9 columns</p>\n",
       "</div>"
      ],
      "text/plain": [
       "       Airline Date_of_journey     Source    Destination Departure_time  \\\n",
       "0       IndiGo     Sun, Oct 17    Kolkata        Chennai          09:35   \n",
       "1     Spicejet     Sun, Oct 17    Kolkata        Chennai          21:45   \n",
       "2       IndiGo     Sun, Oct 17    Kolkata        Chennai          09:40   \n",
       "3       IndiGo     Sun, Oct 17    Kolkata        Chennai          21:55   \n",
       "4       IndiGo     Sun, Oct 17    Kolkata        Chennai          08:15   \n",
       "...        ...             ...        ...            ...            ...   \n",
       "6033    IndiGo     Wed, Oct 20  New Delhi  Visakhapatnam          15:00   \n",
       "6034    IndiGo     Wed, Oct 20  New Delhi  Visakhapatnam          15:45   \n",
       "6035   AirAsia     Wed, Oct 20  New Delhi  Visakhapatnam          02:45   \n",
       "6036  Spicejet     Wed, Oct 20  New Delhi  Visakhapatnam          07:10   \n",
       "6037    IndiGo     Wed, Oct 20  New Delhi  Visakhapatnam          05:55   \n",
       "\n",
       "     Arrival_time   Duration               Total_stops    Price  \n",
       "0           19:00  09 h 25 m   2 stop via Ranchi,Patna  ₹ 7,518  \n",
       "1           00:15  02 h 30 m                  Non stop  ₹ 6,488  \n",
       "2           20:25  10 h 45 m      1 stop via Hyderabad  ₹ 9,419  \n",
       "3           08:15  10 h 20 m      1 stop via Bengaluru  ₹ 9,419  \n",
       "4           13:40  05 h 25 m  1 stop via Visakhapatnam  ₹ 9,907  \n",
       "...           ...        ...                       ...      ...  \n",
       "6033        17:15  02 h 15 m                  Non stop  ₹ 5,953  \n",
       "6034        18:05  02 h 20 m                  Non stop  ₹ 5,955  \n",
       "6035        09:45       07 h        1 stop via Kolkata  ₹ 5,956  \n",
       "6036        12:25  05 h 15 m      1 stop via Hyderabad  ₹ 6,165  \n",
       "6037        12:25  06 h 30 m      1 stop via Hyderabad  ₹ 6,270  \n",
       "\n",
       "[6038 rows x 9 columns]"
      ]
     },
     "execution_count": 16,
     "metadata": {},
     "output_type": "execute_result"
    }
   ],
   "source": [
    "flight1.reset_index(drop=True)"
   ]
  },
  {
   "cell_type": "code",
   "execution_count": 17,
   "metadata": {},
   "outputs": [
    {
     "data": {
      "text/html": [
       "<div>\n",
       "<style scoped>\n",
       "    .dataframe tbody tr th:only-of-type {\n",
       "        vertical-align: middle;\n",
       "    }\n",
       "\n",
       "    .dataframe tbody tr th {\n",
       "        vertical-align: top;\n",
       "    }\n",
       "\n",
       "    .dataframe thead th {\n",
       "        text-align: right;\n",
       "    }\n",
       "</style>\n",
       "<table border=\"1\" class=\"dataframe\">\n",
       "  <thead>\n",
       "    <tr style=\"text-align: right;\">\n",
       "      <th></th>\n",
       "      <th>Airline</th>\n",
       "      <th>Date_of_journey</th>\n",
       "      <th>Source</th>\n",
       "      <th>Destination</th>\n",
       "      <th>Departure_time</th>\n",
       "      <th>Arrival_time</th>\n",
       "      <th>Duration</th>\n",
       "      <th>Total_stops</th>\n",
       "      <th>Price</th>\n",
       "    </tr>\n",
       "  </thead>\n",
       "  <tbody>\n",
       "    <tr>\n",
       "      <th>0</th>\n",
       "      <td>IndiGo</td>\n",
       "      <td>Sun, Oct 17</td>\n",
       "      <td>Kolkata</td>\n",
       "      <td>Chennai</td>\n",
       "      <td>09:35</td>\n",
       "      <td>19:00</td>\n",
       "      <td>09 h 25 m</td>\n",
       "      <td>2 stop via Ranchi,Patna</td>\n",
       "      <td>₹ 7,518</td>\n",
       "    </tr>\n",
       "    <tr>\n",
       "      <th>1</th>\n",
       "      <td>Spicejet</td>\n",
       "      <td>Sun, Oct 17</td>\n",
       "      <td>Kolkata</td>\n",
       "      <td>Chennai</td>\n",
       "      <td>21:45</td>\n",
       "      <td>00:15</td>\n",
       "      <td>02 h 30 m</td>\n",
       "      <td>Non stop</td>\n",
       "      <td>₹ 6,488</td>\n",
       "    </tr>\n",
       "    <tr>\n",
       "      <th>4</th>\n",
       "      <td>IndiGo</td>\n",
       "      <td>Sun, Oct 17</td>\n",
       "      <td>Kolkata</td>\n",
       "      <td>Chennai</td>\n",
       "      <td>09:40</td>\n",
       "      <td>20:25</td>\n",
       "      <td>10 h 45 m</td>\n",
       "      <td>1 stop via Hyderabad</td>\n",
       "      <td>₹ 9,419</td>\n",
       "    </tr>\n",
       "    <tr>\n",
       "      <th>5</th>\n",
       "      <td>IndiGo</td>\n",
       "      <td>Sun, Oct 17</td>\n",
       "      <td>Kolkata</td>\n",
       "      <td>Chennai</td>\n",
       "      <td>21:55</td>\n",
       "      <td>08:15</td>\n",
       "      <td>10 h 20 m</td>\n",
       "      <td>1 stop via Bengaluru</td>\n",
       "      <td>₹ 9,419</td>\n",
       "    </tr>\n",
       "    <tr>\n",
       "      <th>6</th>\n",
       "      <td>IndiGo</td>\n",
       "      <td>Sun, Oct 17</td>\n",
       "      <td>Kolkata</td>\n",
       "      <td>Chennai</td>\n",
       "      <td>08:15</td>\n",
       "      <td>13:40</td>\n",
       "      <td>05 h 25 m</td>\n",
       "      <td>1 stop via Visakhapatnam</td>\n",
       "      <td>₹ 9,907</td>\n",
       "    </tr>\n",
       "    <tr>\n",
       "      <th>7</th>\n",
       "      <td>IndiGo</td>\n",
       "      <td>Sun, Oct 17</td>\n",
       "      <td>Kolkata</td>\n",
       "      <td>Chennai</td>\n",
       "      <td>08:35</td>\n",
       "      <td>19:35</td>\n",
       "      <td>11 h</td>\n",
       "      <td>1 stop via Bengaluru</td>\n",
       "      <td>₹ 9,907</td>\n",
       "    </tr>\n",
       "    <tr>\n",
       "      <th>8</th>\n",
       "      <td>IndiGo</td>\n",
       "      <td>Sun, Oct 17</td>\n",
       "      <td>Kolkata</td>\n",
       "      <td>Chennai</td>\n",
       "      <td>21:00</td>\n",
       "      <td>08:15</td>\n",
       "      <td>11 h 15 m</td>\n",
       "      <td>1 stop via Bengaluru</td>\n",
       "      <td>₹ 9,907</td>\n",
       "    </tr>\n",
       "    <tr>\n",
       "      <th>12</th>\n",
       "      <td>IndiGo</td>\n",
       "      <td>Sun, Oct 17</td>\n",
       "      <td>Kolkata</td>\n",
       "      <td>Chennai</td>\n",
       "      <td>14:05</td>\n",
       "      <td>19:35</td>\n",
       "      <td>05 h 30 m</td>\n",
       "      <td>1 stop via Bengaluru</td>\n",
       "      <td>₹ 10,005</td>\n",
       "    </tr>\n",
       "    <tr>\n",
       "      <th>13</th>\n",
       "      <td>IndiGo</td>\n",
       "      <td>Sun, Oct 17</td>\n",
       "      <td>Kolkata</td>\n",
       "      <td>Chennai</td>\n",
       "      <td>10:40</td>\n",
       "      <td>19:35</td>\n",
       "      <td>08 h 55 m</td>\n",
       "      <td>1 stop via Bengaluru</td>\n",
       "      <td>₹ 10,005</td>\n",
       "    </tr>\n",
       "    <tr>\n",
       "      <th>14</th>\n",
       "      <td>Spicejet</td>\n",
       "      <td>Sun, Oct 17</td>\n",
       "      <td>Kolkata</td>\n",
       "      <td>Chennai</td>\n",
       "      <td>17:40</td>\n",
       "      <td>21:15</td>\n",
       "      <td>03 h 35 m</td>\n",
       "      <td>Non stop</td>\n",
       "      <td>₹ 10,164</td>\n",
       "    </tr>\n",
       "  </tbody>\n",
       "</table>\n",
       "</div>"
      ],
      "text/plain": [
       "     Airline Date_of_journey   Source Destination Departure_time Arrival_time  \\\n",
       "0     IndiGo     Sun, Oct 17  Kolkata     Chennai          09:35        19:00   \n",
       "1   Spicejet     Sun, Oct 17  Kolkata     Chennai          21:45        00:15   \n",
       "4     IndiGo     Sun, Oct 17  Kolkata     Chennai          09:40        20:25   \n",
       "5     IndiGo     Sun, Oct 17  Kolkata     Chennai          21:55        08:15   \n",
       "6     IndiGo     Sun, Oct 17  Kolkata     Chennai          08:15        13:40   \n",
       "7     IndiGo     Sun, Oct 17  Kolkata     Chennai          08:35        19:35   \n",
       "8     IndiGo     Sun, Oct 17  Kolkata     Chennai          21:00        08:15   \n",
       "12    IndiGo     Sun, Oct 17  Kolkata     Chennai          14:05        19:35   \n",
       "13    IndiGo     Sun, Oct 17  Kolkata     Chennai          10:40        19:35   \n",
       "14  Spicejet     Sun, Oct 17  Kolkata     Chennai          17:40        21:15   \n",
       "\n",
       "     Duration               Total_stops     Price  \n",
       "0   09 h 25 m   2 stop via Ranchi,Patna   ₹ 7,518  \n",
       "1   02 h 30 m                  Non stop   ₹ 6,488  \n",
       "4   10 h 45 m      1 stop via Hyderabad   ₹ 9,419  \n",
       "5   10 h 20 m      1 stop via Bengaluru   ₹ 9,419  \n",
       "6   05 h 25 m  1 stop via Visakhapatnam   ₹ 9,907  \n",
       "7        11 h      1 stop via Bengaluru   ₹ 9,907  \n",
       "8   11 h 15 m      1 stop via Bengaluru   ₹ 9,907  \n",
       "12  05 h 30 m      1 stop via Bengaluru  ₹ 10,005  \n",
       "13  08 h 55 m      1 stop via Bengaluru  ₹ 10,005  \n",
       "14  03 h 35 m                  Non stop  ₹ 10,164  "
      ]
     },
     "execution_count": 17,
     "metadata": {},
     "output_type": "execute_result"
    }
   ],
   "source": [
    "flight1.head(10)"
   ]
  },
  {
   "cell_type": "code",
   "execution_count": 18,
   "metadata": {},
   "outputs": [],
   "source": [
    "flight1.loc[flight1['Total_stops'].str.contains('5 stop', case=False), 'Stops'] = 5\n",
    "flight1.loc[flight1['Total_stops'].str.contains('4 stop', case=False), 'Stops'] = 4\n",
    "flight1.loc[flight1['Total_stops'].str.contains('2 stop', case=False), 'Stops'] = 2\n",
    "flight1.loc[flight1['Total_stops'].str.contains('1 stop', case=False), 'Stops'] = 1\n",
    "flight1.loc[flight1['Total_stops'].str.contains('Non stop', case=False), 'Stops'] = 0"
   ]
  },
  {
   "cell_type": "code",
   "execution_count": 19,
   "metadata": {},
   "outputs": [
    {
     "data": {
      "text/html": [
       "<div>\n",
       "<style scoped>\n",
       "    .dataframe tbody tr th:only-of-type {\n",
       "        vertical-align: middle;\n",
       "    }\n",
       "\n",
       "    .dataframe tbody tr th {\n",
       "        vertical-align: top;\n",
       "    }\n",
       "\n",
       "    .dataframe thead th {\n",
       "        text-align: right;\n",
       "    }\n",
       "</style>\n",
       "<table border=\"1\" class=\"dataframe\">\n",
       "  <thead>\n",
       "    <tr style=\"text-align: right;\">\n",
       "      <th></th>\n",
       "      <th>Airline</th>\n",
       "      <th>Date_of_journey</th>\n",
       "      <th>Source</th>\n",
       "      <th>Destination</th>\n",
       "      <th>Departure_time</th>\n",
       "      <th>Arrival_time</th>\n",
       "      <th>Duration</th>\n",
       "      <th>Total_stops</th>\n",
       "      <th>Price</th>\n",
       "      <th>Stops</th>\n",
       "    </tr>\n",
       "  </thead>\n",
       "  <tbody>\n",
       "    <tr>\n",
       "      <th>0</th>\n",
       "      <td>IndiGo</td>\n",
       "      <td>Sun, Oct 17</td>\n",
       "      <td>Kolkata</td>\n",
       "      <td>Chennai</td>\n",
       "      <td>09:35</td>\n",
       "      <td>19:00</td>\n",
       "      <td>09 h 25 m</td>\n",
       "      <td>2 stop via Ranchi,Patna</td>\n",
       "      <td>₹ 7,518</td>\n",
       "      <td>2.0</td>\n",
       "    </tr>\n",
       "    <tr>\n",
       "      <th>1</th>\n",
       "      <td>Spicejet</td>\n",
       "      <td>Sun, Oct 17</td>\n",
       "      <td>Kolkata</td>\n",
       "      <td>Chennai</td>\n",
       "      <td>21:45</td>\n",
       "      <td>00:15</td>\n",
       "      <td>02 h 30 m</td>\n",
       "      <td>Non stop</td>\n",
       "      <td>₹ 6,488</td>\n",
       "      <td>0.0</td>\n",
       "    </tr>\n",
       "    <tr>\n",
       "      <th>4</th>\n",
       "      <td>IndiGo</td>\n",
       "      <td>Sun, Oct 17</td>\n",
       "      <td>Kolkata</td>\n",
       "      <td>Chennai</td>\n",
       "      <td>09:40</td>\n",
       "      <td>20:25</td>\n",
       "      <td>10 h 45 m</td>\n",
       "      <td>1 stop via Hyderabad</td>\n",
       "      <td>₹ 9,419</td>\n",
       "      <td>1.0</td>\n",
       "    </tr>\n",
       "    <tr>\n",
       "      <th>5</th>\n",
       "      <td>IndiGo</td>\n",
       "      <td>Sun, Oct 17</td>\n",
       "      <td>Kolkata</td>\n",
       "      <td>Chennai</td>\n",
       "      <td>21:55</td>\n",
       "      <td>08:15</td>\n",
       "      <td>10 h 20 m</td>\n",
       "      <td>1 stop via Bengaluru</td>\n",
       "      <td>₹ 9,419</td>\n",
       "      <td>1.0</td>\n",
       "    </tr>\n",
       "    <tr>\n",
       "      <th>6</th>\n",
       "      <td>IndiGo</td>\n",
       "      <td>Sun, Oct 17</td>\n",
       "      <td>Kolkata</td>\n",
       "      <td>Chennai</td>\n",
       "      <td>08:15</td>\n",
       "      <td>13:40</td>\n",
       "      <td>05 h 25 m</td>\n",
       "      <td>1 stop via Visakhapatnam</td>\n",
       "      <td>₹ 9,907</td>\n",
       "      <td>1.0</td>\n",
       "    </tr>\n",
       "    <tr>\n",
       "      <th>7</th>\n",
       "      <td>IndiGo</td>\n",
       "      <td>Sun, Oct 17</td>\n",
       "      <td>Kolkata</td>\n",
       "      <td>Chennai</td>\n",
       "      <td>08:35</td>\n",
       "      <td>19:35</td>\n",
       "      <td>11 h</td>\n",
       "      <td>1 stop via Bengaluru</td>\n",
       "      <td>₹ 9,907</td>\n",
       "      <td>1.0</td>\n",
       "    </tr>\n",
       "    <tr>\n",
       "      <th>8</th>\n",
       "      <td>IndiGo</td>\n",
       "      <td>Sun, Oct 17</td>\n",
       "      <td>Kolkata</td>\n",
       "      <td>Chennai</td>\n",
       "      <td>21:00</td>\n",
       "      <td>08:15</td>\n",
       "      <td>11 h 15 m</td>\n",
       "      <td>1 stop via Bengaluru</td>\n",
       "      <td>₹ 9,907</td>\n",
       "      <td>1.0</td>\n",
       "    </tr>\n",
       "    <tr>\n",
       "      <th>12</th>\n",
       "      <td>IndiGo</td>\n",
       "      <td>Sun, Oct 17</td>\n",
       "      <td>Kolkata</td>\n",
       "      <td>Chennai</td>\n",
       "      <td>14:05</td>\n",
       "      <td>19:35</td>\n",
       "      <td>05 h 30 m</td>\n",
       "      <td>1 stop via Bengaluru</td>\n",
       "      <td>₹ 10,005</td>\n",
       "      <td>1.0</td>\n",
       "    </tr>\n",
       "    <tr>\n",
       "      <th>13</th>\n",
       "      <td>IndiGo</td>\n",
       "      <td>Sun, Oct 17</td>\n",
       "      <td>Kolkata</td>\n",
       "      <td>Chennai</td>\n",
       "      <td>10:40</td>\n",
       "      <td>19:35</td>\n",
       "      <td>08 h 55 m</td>\n",
       "      <td>1 stop via Bengaluru</td>\n",
       "      <td>₹ 10,005</td>\n",
       "      <td>1.0</td>\n",
       "    </tr>\n",
       "    <tr>\n",
       "      <th>14</th>\n",
       "      <td>Spicejet</td>\n",
       "      <td>Sun, Oct 17</td>\n",
       "      <td>Kolkata</td>\n",
       "      <td>Chennai</td>\n",
       "      <td>17:40</td>\n",
       "      <td>21:15</td>\n",
       "      <td>03 h 35 m</td>\n",
       "      <td>Non stop</td>\n",
       "      <td>₹ 10,164</td>\n",
       "      <td>0.0</td>\n",
       "    </tr>\n",
       "  </tbody>\n",
       "</table>\n",
       "</div>"
      ],
      "text/plain": [
       "     Airline Date_of_journey   Source Destination Departure_time Arrival_time  \\\n",
       "0     IndiGo     Sun, Oct 17  Kolkata     Chennai          09:35        19:00   \n",
       "1   Spicejet     Sun, Oct 17  Kolkata     Chennai          21:45        00:15   \n",
       "4     IndiGo     Sun, Oct 17  Kolkata     Chennai          09:40        20:25   \n",
       "5     IndiGo     Sun, Oct 17  Kolkata     Chennai          21:55        08:15   \n",
       "6     IndiGo     Sun, Oct 17  Kolkata     Chennai          08:15        13:40   \n",
       "7     IndiGo     Sun, Oct 17  Kolkata     Chennai          08:35        19:35   \n",
       "8     IndiGo     Sun, Oct 17  Kolkata     Chennai          21:00        08:15   \n",
       "12    IndiGo     Sun, Oct 17  Kolkata     Chennai          14:05        19:35   \n",
       "13    IndiGo     Sun, Oct 17  Kolkata     Chennai          10:40        19:35   \n",
       "14  Spicejet     Sun, Oct 17  Kolkata     Chennai          17:40        21:15   \n",
       "\n",
       "     Duration               Total_stops     Price  Stops  \n",
       "0   09 h 25 m   2 stop via Ranchi,Patna   ₹ 7,518    2.0  \n",
       "1   02 h 30 m                  Non stop   ₹ 6,488    0.0  \n",
       "4   10 h 45 m      1 stop via Hyderabad   ₹ 9,419    1.0  \n",
       "5   10 h 20 m      1 stop via Bengaluru   ₹ 9,419    1.0  \n",
       "6   05 h 25 m  1 stop via Visakhapatnam   ₹ 9,907    1.0  \n",
       "7        11 h      1 stop via Bengaluru   ₹ 9,907    1.0  \n",
       "8   11 h 15 m      1 stop via Bengaluru   ₹ 9,907    1.0  \n",
       "12  05 h 30 m      1 stop via Bengaluru  ₹ 10,005    1.0  \n",
       "13  08 h 55 m      1 stop via Bengaluru  ₹ 10,005    1.0  \n",
       "14  03 h 35 m                  Non stop  ₹ 10,164    0.0  "
      ]
     },
     "execution_count": 19,
     "metadata": {},
     "output_type": "execute_result"
    }
   ],
   "source": [
    "flight1.head(10)"
   ]
  },
  {
   "cell_type": "markdown",
   "metadata": {},
   "source": [
    "We have now cleaned Total_stops columns"
   ]
  },
  {
   "cell_type": "code",
   "execution_count": 20,
   "metadata": {},
   "outputs": [],
   "source": [
    "flight1.drop('Total_stops', axis=1, inplace = True)"
   ]
  },
  {
   "cell_type": "code",
   "execution_count": 21,
   "metadata": {},
   "outputs": [
    {
     "data": {
      "text/plain": [
       "30"
      ]
     },
     "execution_count": 21,
     "metadata": {},
     "output_type": "execute_result"
    }
   ],
   "source": [
    "flight1['Stops'].isna().sum()"
   ]
  },
  {
   "cell_type": "code",
   "execution_count": 22,
   "metadata": {},
   "outputs": [],
   "source": [
    "flight1.dropna(inplace=True)"
   ]
  },
  {
   "cell_type": "code",
   "execution_count": 23,
   "metadata": {},
   "outputs": [],
   "source": [
    "flight1['Price_cleaned'] = flight1['Price'].replace(to_replace='₹', value='',regex=True)"
   ]
  },
  {
   "cell_type": "code",
   "execution_count": 24,
   "metadata": {},
   "outputs": [],
   "source": [
    "flight1['Price_cleaned'] = flight1['Price_cleaned'].replace(to_replace=',', value='',regex=True)"
   ]
  },
  {
   "cell_type": "code",
   "execution_count": 25,
   "metadata": {},
   "outputs": [],
   "source": [
    "flight1.drop('Price', axis=1, inplace=True)"
   ]
  },
  {
   "cell_type": "code",
   "execution_count": 26,
   "metadata": {},
   "outputs": [],
   "source": [
    "flight1.Date_of_journey = flight1.Date_of_journey.str.split(' ')"
   ]
  },
  {
   "cell_type": "code",
   "execution_count": 27,
   "metadata": {},
   "outputs": [
    {
     "data": {
      "text/plain": [
       "0       [Sun,, Oct, 17]\n",
       "1       [Sun,, Oct, 17]\n",
       "4       [Sun,, Oct, 17]\n",
       "5       [Sun,, Oct, 17]\n",
       "6       [Sun,, Oct, 17]\n",
       "             ...       \n",
       "8584    [Wed,, Oct, 20]\n",
       "8585    [Wed,, Oct, 20]\n",
       "8586    [Wed,, Oct, 20]\n",
       "8587    [Wed,, Oct, 20]\n",
       "8588    [Wed,, Oct, 20]\n",
       "Name: Date_of_journey, Length: 6008, dtype: object"
      ]
     },
     "execution_count": 27,
     "metadata": {},
     "output_type": "execute_result"
    }
   ],
   "source": [
    "flight1.Date_of_journey"
   ]
  },
  {
   "cell_type": "code",
   "execution_count": 28,
   "metadata": {},
   "outputs": [],
   "source": [
    "flight1['Date'] = flight1.Date_of_journey.str[2]"
   ]
  },
  {
   "cell_type": "code",
   "execution_count": 29,
   "metadata": {},
   "outputs": [],
   "source": [
    "flight1.drop('Date_of_journey', axis=1, inplace=True)"
   ]
  },
  {
   "cell_type": "code",
   "execution_count": 30,
   "metadata": {},
   "outputs": [],
   "source": [
    "flight1.Departure_time = flight1.Departure_time.str.split(':')"
   ]
  },
  {
   "cell_type": "code",
   "execution_count": 31,
   "metadata": {},
   "outputs": [],
   "source": [
    "flight1['Dept_time_hour'] = flight1.Departure_time.str[0]\n",
    "flight1['Dept_time_mins'] = flight1.Departure_time.str[1]"
   ]
  },
  {
   "cell_type": "code",
   "execution_count": 32,
   "metadata": {},
   "outputs": [],
   "source": [
    "flight1.Arrival_time = flight1.Arrival_time.str.split(':')"
   ]
  },
  {
   "cell_type": "code",
   "execution_count": 33,
   "metadata": {},
   "outputs": [],
   "source": [
    "flight1['Arrv_time_hour'] = flight1.Arrival_time.str[0]\n",
    "flight1['Arrv_time_mins'] = flight1.Arrival_time.str[1]"
   ]
  },
  {
   "cell_type": "code",
   "execution_count": 34,
   "metadata": {},
   "outputs": [],
   "source": [
    "def mins(hours):\n",
    "    if len(hours.split(' ')) > 2:\n",
    "        return hours.split(' ')[2]\n",
    "    else:\n",
    "        return 0\n",
    "    "
   ]
  },
  {
   "cell_type": "code",
   "execution_count": 35,
   "metadata": {},
   "outputs": [],
   "source": [
    "flight1['Mins_duration'] = flight1['Duration'].apply(mins)"
   ]
  },
  {
   "cell_type": "code",
   "execution_count": 36,
   "metadata": {},
   "outputs": [],
   "source": [
    "flight1.Duration = flight1.Duration.str.split(' ')"
   ]
  },
  {
   "cell_type": "code",
   "execution_count": 37,
   "metadata": {},
   "outputs": [
    {
     "data": {
      "text/plain": [
       "0       [09, h, 25, m]\n",
       "1       [02, h, 30, m]\n",
       "4       [10, h, 45, m]\n",
       "5       [10, h, 20, m]\n",
       "6       [05, h, 25, m]\n",
       "             ...      \n",
       "8584    [02, h, 15, m]\n",
       "8585    [02, h, 20, m]\n",
       "8586           [07, h]\n",
       "8587    [05, h, 15, m]\n",
       "8588    [06, h, 30, m]\n",
       "Name: Duration, Length: 6008, dtype: object"
      ]
     },
     "execution_count": 37,
     "metadata": {},
     "output_type": "execute_result"
    }
   ],
   "source": [
    "flight1.Duration"
   ]
  },
  {
   "cell_type": "code",
   "execution_count": 38,
   "metadata": {},
   "outputs": [],
   "source": [
    "flight1['Hours_duration'] = flight1.Duration.str[0]"
   ]
  },
  {
   "cell_type": "code",
   "execution_count": 39,
   "metadata": {},
   "outputs": [],
   "source": [
    "flight1.Hours_duration = flight1.Hours_duration.str.split('h')\n",
    "flight1['Hours_duration'] = flight1.Hours_duration.str[0]"
   ]
  },
  {
   "cell_type": "code",
   "execution_count": 40,
   "metadata": {},
   "outputs": [],
   "source": [
    "flight1.drop(['Departure_time', 'Arrival_time','Duration'], axis=1, inplace=True)"
   ]
  },
  {
   "cell_type": "code",
   "execution_count": 41,
   "metadata": {},
   "outputs": [
    {
     "data": {
      "text/html": [
       "<div>\n",
       "<style scoped>\n",
       "    .dataframe tbody tr th:only-of-type {\n",
       "        vertical-align: middle;\n",
       "    }\n",
       "\n",
       "    .dataframe tbody tr th {\n",
       "        vertical-align: top;\n",
       "    }\n",
       "\n",
       "    .dataframe thead th {\n",
       "        text-align: right;\n",
       "    }\n",
       "</style>\n",
       "<table border=\"1\" class=\"dataframe\">\n",
       "  <thead>\n",
       "    <tr style=\"text-align: right;\">\n",
       "      <th></th>\n",
       "      <th>Airline</th>\n",
       "      <th>Source</th>\n",
       "      <th>Destination</th>\n",
       "      <th>Stops</th>\n",
       "      <th>Price_cleaned</th>\n",
       "      <th>Date</th>\n",
       "      <th>Dept_time_hour</th>\n",
       "      <th>Dept_time_mins</th>\n",
       "      <th>Arrv_time_hour</th>\n",
       "      <th>Arrv_time_mins</th>\n",
       "      <th>Mins_duration</th>\n",
       "      <th>Hours_duration</th>\n",
       "    </tr>\n",
       "  </thead>\n",
       "  <tbody>\n",
       "    <tr>\n",
       "      <th>0</th>\n",
       "      <td>IndiGo</td>\n",
       "      <td>Kolkata</td>\n",
       "      <td>Chennai</td>\n",
       "      <td>2.0</td>\n",
       "      <td>7518</td>\n",
       "      <td>17</td>\n",
       "      <td>09</td>\n",
       "      <td>35</td>\n",
       "      <td>19</td>\n",
       "      <td>00</td>\n",
       "      <td>25</td>\n",
       "      <td>09</td>\n",
       "    </tr>\n",
       "    <tr>\n",
       "      <th>1</th>\n",
       "      <td>Spicejet</td>\n",
       "      <td>Kolkata</td>\n",
       "      <td>Chennai</td>\n",
       "      <td>0.0</td>\n",
       "      <td>6488</td>\n",
       "      <td>17</td>\n",
       "      <td>21</td>\n",
       "      <td>45</td>\n",
       "      <td>00</td>\n",
       "      <td>15</td>\n",
       "      <td>30</td>\n",
       "      <td>02</td>\n",
       "    </tr>\n",
       "    <tr>\n",
       "      <th>4</th>\n",
       "      <td>IndiGo</td>\n",
       "      <td>Kolkata</td>\n",
       "      <td>Chennai</td>\n",
       "      <td>1.0</td>\n",
       "      <td>9419</td>\n",
       "      <td>17</td>\n",
       "      <td>09</td>\n",
       "      <td>40</td>\n",
       "      <td>20</td>\n",
       "      <td>25</td>\n",
       "      <td>45</td>\n",
       "      <td>10</td>\n",
       "    </tr>\n",
       "    <tr>\n",
       "      <th>5</th>\n",
       "      <td>IndiGo</td>\n",
       "      <td>Kolkata</td>\n",
       "      <td>Chennai</td>\n",
       "      <td>1.0</td>\n",
       "      <td>9419</td>\n",
       "      <td>17</td>\n",
       "      <td>21</td>\n",
       "      <td>55</td>\n",
       "      <td>08</td>\n",
       "      <td>15</td>\n",
       "      <td>20</td>\n",
       "      <td>10</td>\n",
       "    </tr>\n",
       "    <tr>\n",
       "      <th>6</th>\n",
       "      <td>IndiGo</td>\n",
       "      <td>Kolkata</td>\n",
       "      <td>Chennai</td>\n",
       "      <td>1.0</td>\n",
       "      <td>9907</td>\n",
       "      <td>17</td>\n",
       "      <td>08</td>\n",
       "      <td>15</td>\n",
       "      <td>13</td>\n",
       "      <td>40</td>\n",
       "      <td>25</td>\n",
       "      <td>05</td>\n",
       "    </tr>\n",
       "    <tr>\n",
       "      <th>7</th>\n",
       "      <td>IndiGo</td>\n",
       "      <td>Kolkata</td>\n",
       "      <td>Chennai</td>\n",
       "      <td>1.0</td>\n",
       "      <td>9907</td>\n",
       "      <td>17</td>\n",
       "      <td>08</td>\n",
       "      <td>35</td>\n",
       "      <td>19</td>\n",
       "      <td>35</td>\n",
       "      <td>0</td>\n",
       "      <td>11</td>\n",
       "    </tr>\n",
       "    <tr>\n",
       "      <th>8</th>\n",
       "      <td>IndiGo</td>\n",
       "      <td>Kolkata</td>\n",
       "      <td>Chennai</td>\n",
       "      <td>1.0</td>\n",
       "      <td>9907</td>\n",
       "      <td>17</td>\n",
       "      <td>21</td>\n",
       "      <td>00</td>\n",
       "      <td>08</td>\n",
       "      <td>15</td>\n",
       "      <td>15</td>\n",
       "      <td>11</td>\n",
       "    </tr>\n",
       "    <tr>\n",
       "      <th>12</th>\n",
       "      <td>IndiGo</td>\n",
       "      <td>Kolkata</td>\n",
       "      <td>Chennai</td>\n",
       "      <td>1.0</td>\n",
       "      <td>10005</td>\n",
       "      <td>17</td>\n",
       "      <td>14</td>\n",
       "      <td>05</td>\n",
       "      <td>19</td>\n",
       "      <td>35</td>\n",
       "      <td>30</td>\n",
       "      <td>05</td>\n",
       "    </tr>\n",
       "    <tr>\n",
       "      <th>13</th>\n",
       "      <td>IndiGo</td>\n",
       "      <td>Kolkata</td>\n",
       "      <td>Chennai</td>\n",
       "      <td>1.0</td>\n",
       "      <td>10005</td>\n",
       "      <td>17</td>\n",
       "      <td>10</td>\n",
       "      <td>40</td>\n",
       "      <td>19</td>\n",
       "      <td>35</td>\n",
       "      <td>55</td>\n",
       "      <td>08</td>\n",
       "    </tr>\n",
       "    <tr>\n",
       "      <th>14</th>\n",
       "      <td>Spicejet</td>\n",
       "      <td>Kolkata</td>\n",
       "      <td>Chennai</td>\n",
       "      <td>0.0</td>\n",
       "      <td>10164</td>\n",
       "      <td>17</td>\n",
       "      <td>17</td>\n",
       "      <td>40</td>\n",
       "      <td>21</td>\n",
       "      <td>15</td>\n",
       "      <td>35</td>\n",
       "      <td>03</td>\n",
       "    </tr>\n",
       "  </tbody>\n",
       "</table>\n",
       "</div>"
      ],
      "text/plain": [
       "     Airline   Source Destination  Stops Price_cleaned Date Dept_time_hour  \\\n",
       "0     IndiGo  Kolkata     Chennai    2.0          7518   17             09   \n",
       "1   Spicejet  Kolkata     Chennai    0.0          6488   17             21   \n",
       "4     IndiGo  Kolkata     Chennai    1.0          9419   17             09   \n",
       "5     IndiGo  Kolkata     Chennai    1.0          9419   17             21   \n",
       "6     IndiGo  Kolkata     Chennai    1.0          9907   17             08   \n",
       "7     IndiGo  Kolkata     Chennai    1.0          9907   17             08   \n",
       "8     IndiGo  Kolkata     Chennai    1.0          9907   17             21   \n",
       "12    IndiGo  Kolkata     Chennai    1.0         10005   17             14   \n",
       "13    IndiGo  Kolkata     Chennai    1.0         10005   17             10   \n",
       "14  Spicejet  Kolkata     Chennai    0.0         10164   17             17   \n",
       "\n",
       "   Dept_time_mins Arrv_time_hour Arrv_time_mins Mins_duration Hours_duration  \n",
       "0              35             19             00            25             09  \n",
       "1              45             00             15            30             02  \n",
       "4              40             20             25            45             10  \n",
       "5              55             08             15            20             10  \n",
       "6              15             13             40            25             05  \n",
       "7              35             19             35             0             11  \n",
       "8              00             08             15            15             11  \n",
       "12             05             19             35            30             05  \n",
       "13             40             19             35            55             08  \n",
       "14             40             21             15            35             03  "
      ]
     },
     "execution_count": 41,
     "metadata": {},
     "output_type": "execute_result"
    }
   ],
   "source": [
    "flight1.head(10)"
   ]
  },
  {
   "cell_type": "code",
   "execution_count": 42,
   "metadata": {},
   "outputs": [
    {
     "data": {
      "text/plain": [
       "Airline           0\n",
       "Source            0\n",
       "Destination       0\n",
       "Stops             0\n",
       "Price_cleaned     0\n",
       "Date              0\n",
       "Dept_time_hour    0\n",
       "Dept_time_mins    0\n",
       "Arrv_time_hour    0\n",
       "Arrv_time_mins    0\n",
       "Mins_duration     0\n",
       "Hours_duration    0\n",
       "dtype: int64"
      ]
     },
     "execution_count": 42,
     "metadata": {},
     "output_type": "execute_result"
    }
   ],
   "source": [
    "flight1.isnull().sum()"
   ]
  },
  {
   "cell_type": "code",
   "execution_count": 43,
   "metadata": {},
   "outputs": [
    {
     "name": "stdout",
     "output_type": "stream",
     "text": [
      "<class 'pandas.core.frame.DataFrame'>\n",
      "Int64Index: 6008 entries, 0 to 8588\n",
      "Data columns (total 12 columns):\n",
      " #   Column          Non-Null Count  Dtype  \n",
      "---  ------          --------------  -----  \n",
      " 0   Airline         6008 non-null   object \n",
      " 1   Source          6008 non-null   object \n",
      " 2   Destination     6008 non-null   object \n",
      " 3   Stops           6008 non-null   float64\n",
      " 4   Price_cleaned   6008 non-null   object \n",
      " 5   Date            6008 non-null   object \n",
      " 6   Dept_time_hour  6008 non-null   object \n",
      " 7   Dept_time_mins  6008 non-null   object \n",
      " 8   Arrv_time_hour  6008 non-null   object \n",
      " 9   Arrv_time_mins  6008 non-null   object \n",
      " 10  Mins_duration   6008 non-null   object \n",
      " 11  Hours_duration  6008 non-null   object \n",
      "dtypes: float64(1), object(11)\n",
      "memory usage: 610.2+ KB\n"
     ]
    }
   ],
   "source": [
    "flight1.info()"
   ]
  },
  {
   "cell_type": "code",
   "execution_count": 44,
   "metadata": {},
   "outputs": [],
   "source": [
    "flight1['Stops'] = flight1['Stops'].astype(int)\n",
    "flight1['Price_cleaned'] = flight1['Price_cleaned'].astype(int)\n",
    "flight1['Date'] = flight1['Date'].astype(int)\n",
    "flight1['Dept_time_hour'] = flight1['Dept_time_hour'].astype(int)\n",
    "flight1['Dept_time_mins'] = flight1['Dept_time_mins'].astype(int)\n",
    "flight1['Arrv_time_hour'] = flight1['Arrv_time_hour'].astype(int)\n",
    "flight1['Arrv_time_mins'] = flight1['Arrv_time_mins'].astype(int)\n",
    "flight1['Mins_duration'] = flight1['Mins_duration'].astype(int)\n",
    "flight1['Hours_duration'] = flight1['Hours_duration'].astype(int)"
   ]
  },
  {
   "cell_type": "code",
   "execution_count": 45,
   "metadata": {},
   "outputs": [
    {
     "name": "stdout",
     "output_type": "stream",
     "text": [
      "<class 'pandas.core.frame.DataFrame'>\n",
      "Int64Index: 6008 entries, 0 to 8588\n",
      "Data columns (total 12 columns):\n",
      " #   Column          Non-Null Count  Dtype \n",
      "---  ------          --------------  ----- \n",
      " 0   Airline         6008 non-null   object\n",
      " 1   Source          6008 non-null   object\n",
      " 2   Destination     6008 non-null   object\n",
      " 3   Stops           6008 non-null   int32 \n",
      " 4   Price_cleaned   6008 non-null   int32 \n",
      " 5   Date            6008 non-null   int32 \n",
      " 6   Dept_time_hour  6008 non-null   int32 \n",
      " 7   Dept_time_mins  6008 non-null   int32 \n",
      " 8   Arrv_time_hour  6008 non-null   int32 \n",
      " 9   Arrv_time_mins  6008 non-null   int32 \n",
      " 10  Mins_duration   6008 non-null   int32 \n",
      " 11  Hours_duration  6008 non-null   int32 \n",
      "dtypes: int32(9), object(3)\n",
      "memory usage: 399.0+ KB\n"
     ]
    }
   ],
   "source": [
    "flight1.info()"
   ]
  },
  {
   "cell_type": "code",
   "execution_count": null,
   "metadata": {},
   "outputs": [],
   "source": [
    "we have converted the columns into integer data type."
   ]
  },
  {
   "cell_type": "code",
   "execution_count": 46,
   "metadata": {},
   "outputs": [
    {
     "data": {
      "text/plain": [
       "<AxesSubplot:xlabel='Airline', ylabel='count'>"
      ]
     },
     "execution_count": 46,
     "metadata": {},
     "output_type": "execute_result"
    },
    {
     "data": {
      "image/png": "[encoded data removed]",
      "text/plain": [
       "<Figure size 720x504 with 1 Axes>"
      ]
     },
     "metadata": {
      "needs_background": "light"
     },
     "output_type": "display_data"
    }
   ],
   "source": [
    "plt.figure(figsize = (10,7))\n",
    "sns.countplot(flight1['Airline'])"
   ]
  },
  {
   "cell_type": "code",
   "execution_count": 47,
   "metadata": {},
   "outputs": [
    {
     "data": {
      "text/plain": [
       "<AxesSubplot:xlabel='Source', ylabel='count'>"
      ]
     },
     "execution_count": 47,
     "metadata": {},
     "output_type": "execute_result"
    },
    {
     "data": {
      "image/png": "[encoded data removed]",
      "text/plain": [
       "<Figure size 720x504 with 1 Axes>"
      ]
     },
     "metadata": {
      "needs_background": "light"
     },
     "output_type": "display_data"
    }
   ],
   "source": [
    "plt.figure(figsize = (10,7))\n",
    "sns.countplot(flight1['Source'])"
   ]
  },
  {
   "cell_type": "code",
   "execution_count": 48,
   "metadata": {},
   "outputs": [
    {
     "data": {
      "text/plain": [
       "<AxesSubplot:xlabel='Destination', ylabel='count'>"
      ]
     },
     "execution_count": 48,
     "metadata": {},
     "output_type": "execute_result"
    },
    {
     "data": {
      "image/png": "[encoded data removed]",
      "text/plain": [
       "<Figure size 1296x504 with 1 Axes>"
      ]
     },
     "metadata": {
      "needs_background": "light"
     },
     "output_type": "display_data"
    }
   ],
   "source": [
    "plt.figure(figsize = (18,7))\n",
    "plt.xticks(rotation = 45)\n",
    "sns.countplot(flight1['Destination'])"
   ]
  },
  {
   "cell_type": "markdown",
   "metadata": {},
   "source": [
    "## Airline:<br>\n",
    "Indigo would be the most preferred Airline.<br>\n",
    "\n",
    "## Source: <br>\n",
    "Majority of flights take off from Kolkatta and Chennai. <br>\n",
    "\n",
    "## Destination: <br>\n",
    "Maximum flights land in New Delhi and Patna"
   ]
  },
  {
   "cell_type": "code",
   "execution_count": 49,
   "metadata": {},
   "outputs": [],
   "source": [
    "from sklearn.preprocessing import LabelEncoder\n",
    "le= LabelEncoder()"
   ]
  },
  {
   "cell_type": "code",
   "execution_count": 50,
   "metadata": {},
   "outputs": [
    {
     "data": {
      "text/plain": [
       "Index(['Airline', 'Source', 'Destination', 'Stops', 'Price_cleaned', 'Date',\n",
       "       'Dept_time_hour', 'Dept_time_mins', 'Arrv_time_hour', 'Arrv_time_mins',\n",
       "       'Mins_duration', 'Hours_duration'],\n",
       "      dtype='object')"
      ]
     },
     "execution_count": 50,
     "metadata": {},
     "output_type": "execute_result"
    }
   ],
   "source": [
    "flight1.columns"
   ]
  },
  {
   "cell_type": "code",
   "execution_count": 51,
   "metadata": {},
   "outputs": [],
   "source": [
    "convert = ['Airline', 'Source', 'Destination']"
   ]
  },
  {
   "cell_type": "code",
   "execution_count": 52,
   "metadata": {},
   "outputs": [],
   "source": [
    "for column in convert:\n",
    "    flight1[column] = le.fit_transform(flight1[column])"
   ]
  },
  {
   "cell_type": "code",
   "execution_count": 53,
   "metadata": {},
   "outputs": [],
   "source": [
    "x= flight1.drop('Price_cleaned', axis=1)\n",
    "y= flight1['Price_cleaned']"
   ]
  },
  {
   "cell_type": "code",
   "execution_count": 54,
   "metadata": {},
   "outputs": [],
   "source": [
    "from sklearn.preprocessing import StandardScaler\n",
    "ss = StandardScaler()\n",
    "x = ss.fit_transform(x)"
   ]
  },
  {
   "cell_type": "markdown",
   "metadata": {},
   "source": [
    "# MODEL BUILDING"
   ]
  },
  {
   "cell_type": "markdown",
   "metadata": {},
   "source": [
    "## Finding the best random state for the model"
   ]
  },
  {
   "cell_type": "code",
   "execution_count": 55,
   "metadata": {},
   "outputs": [],
   "source": [
    "from sklearn.model_selection import train_test_split\n",
    "from sklearn.metrics import mean_squared_error, mean_absolute_error, r2_score\n",
    "\n",
    "from sklearn.linear_model import LinearRegression\n",
    "from sklearn.tree import DecisionTreeRegressor\n",
    "from sklearn.ensemble import RandomForestRegressor\n",
    "from sklearn.neighbors import KNeighborsRegressor\n",
    "from sklearn.svm import SVR\n",
    "from sklearn.ensemble import AdaBoostRegressor\n",
    "from sklearn.ensemble import GradientBoostingRegressor"
   ]
  },
  {
   "cell_type": "code",
   "execution_count": 56,
   "metadata": {},
   "outputs": [
    {
     "name": "stdout",
     "output_type": "stream",
     "text": [
      "Best accuracy is 0.21010955274912968 on random state 162\n"
     ]
    }
   ],
   "source": [
    "maxAccu = 0\n",
    "maxRS = 0\n",
    "\n",
    "for i in range(0,200):\n",
    "    x_train,x_test,y_train,y_test = train_test_split(x,y,test_size=0.20,random_state=i)\n",
    "    lr = LinearRegression()\n",
    "    lr.fit(x_train,y_train)\n",
    "    pred = lr.predict(x_test)\n",
    "    accu = r2_score(y_test,pred)\n",
    "    \n",
    "    if accu > maxAccu:\n",
    "        maxAccu = accu\n",
    "        maxRS = i\n",
    "print(\"Best accuracy is\",maxAccu,\"on random state\",maxRS)"
   ]
  },
  {
   "cell_type": "code",
   "execution_count": 57,
   "metadata": {},
   "outputs": [],
   "source": [
    "x_train,x_test,y_train,y_test = train_test_split(x,y,test_size=0.20,random_state=162)"
   ]
  },
  {
   "cell_type": "code",
   "execution_count": 58,
   "metadata": {},
   "outputs": [
    {
     "name": "stdout",
     "output_type": "stream",
     "text": [
      "mean_squared_error: 3951129.8232569117\n",
      "mean_absolute_error: 1463.1268946822345\n",
      "r2_score: 0.21010955274912968\n",
      "0.16825673897475402\n"
     ]
    }
   ],
   "source": [
    "lr = LinearRegression()\n",
    "lr.fit(x_train,y_train)\n",
    "pred=lr.predict(x_test)\n",
    "print(\"mean_squared_error:\",mean_squared_error(y_test,pred))\n",
    "print(\"mean_absolute_error:\",mean_absolute_error(y_test,pred))\n",
    "print(\"r2_score:\",r2_score(y_test,pred))\n",
    "print(lr.score(x_train,y_train))"
   ]
  },
  {
   "cell_type": "code",
   "execution_count": 59,
   "metadata": {},
   "outputs": [
    {
     "name": "stdout",
     "output_type": "stream",
     "text": [
      "mean_squared_error: 3283859.4165395633\n",
      "mean_absolute_error: 929.3603716028839\n",
      "r2_score: 0.3435069716081163\n",
      "0.9388095698999773\n"
     ]
    }
   ],
   "source": [
    "dt = DecisionTreeRegressor()\n",
    "dt.fit(x_train,y_train)\n",
    "pred = dt.predict(x_test)\n",
    "print(\"mean_squared_error:\",mean_squared_error(y_test,pred))\n",
    "print(\"mean_absolute_error:\",mean_absolute_error(y_test,pred))\n",
    "print(\"r2_score:\",r2_score(y_test,pred))\n",
    "print(dt.score(x_train,y_train))"
   ]
  },
  {
   "cell_type": "code",
   "execution_count": 60,
   "metadata": {},
   "outputs": [
    {
     "name": "stdout",
     "output_type": "stream",
     "text": [
      "mean_squared_error: 1964867.4326944842\n",
      "mean_absolute_error: 785.3666957768844\n",
      "r2_score: 0.6071933637654106\n",
      "0.9035527579890125\n"
     ]
    }
   ],
   "source": [
    "rf = RandomForestRegressor()\n",
    "rf.fit(x_train,y_train)\n",
    "pred = rf.predict(x_test)\n",
    "print(\"mean_squared_error:\",mean_squared_error(y_test,pred))\n",
    "print(\"mean_absolute_error:\",mean_absolute_error(y_test,pred))\n",
    "print(\"r2_score:\",r2_score(y_test,pred))\n",
    "print(rf.score(x_train,y_train))"
   ]
  },
  {
   "cell_type": "code",
   "execution_count": 61,
   "metadata": {},
   "outputs": [
    {
     "name": "stdout",
     "output_type": "stream",
     "text": [
      "mean_squared_error: 3267900.803793677\n",
      "mean_absolute_error: 1222.9873544093177\n",
      "r2_score: 0.3466973390025647\n",
      "0.5865172409600627\n"
     ]
    }
   ],
   "source": [
    "kn = KNeighborsRegressor()\n",
    "kn.fit(x_train,y_train)\n",
    "pred = kn.predict(x_test)\n",
    "print(\"mean_squared_error:\",mean_squared_error(y_test,pred))\n",
    "print(\"mean_absolute_error:\",mean_absolute_error(y_test,pred))\n",
    "print(\"r2_score:\",r2_score(y_test,pred))\n",
    "print(kn.score(x_train,y_train))"
   ]
  },
  {
   "cell_type": "code",
   "execution_count": 62,
   "metadata": {},
   "outputs": [
    {
     "name": "stdout",
     "output_type": "stream",
     "text": [
      "mean_squared_error: 4889061.822355202\n",
      "mean_absolute_error: 1581.4315023178292\n",
      "r2_score: 0.022602799137080853\n",
      "0.014483811066058339\n"
     ]
    }
   ],
   "source": [
    "sv = SVR()\n",
    "sv.fit(x_train,y_train)\n",
    "pred = sv.predict(x_test)\n",
    "print(\"mean_squared_error:\",mean_squared_error(y_test,pred))\n",
    "print(\"mean_absolute_error:\",mean_absolute_error(y_test,pred))\n",
    "print(\"r2_score:\",r2_score(y_test,pred))\n",
    "print(sv.score(x_train,y_train))"
   ]
  },
  {
   "cell_type": "code",
   "execution_count": 63,
   "metadata": {},
   "outputs": [
    {
     "name": "stdout",
     "output_type": "stream",
     "text": [
      "mean_squared_error: 4879346.504607525\n",
      "mean_absolute_error: 1868.4375177001934\n",
      "r2_score: 0.02454503769267735\n",
      "0.13459243750412753\n"
     ]
    }
   ],
   "source": [
    "ab = AdaBoostRegressor()\n",
    "ab.fit(x_train,y_train)\n",
    "pred=ab.predict(x_test)\n",
    "print(\"mean_squared_error:\",mean_squared_error(y_test,pred))\n",
    "print(\"mean_absolute_error:\",mean_absolute_error(y_test,pred))\n",
    "print(\"r2_score:\",r2_score(y_test,pred))\n",
    "print(ab.score(x_train,y_train))"
   ]
  },
  {
   "cell_type": "code",
   "execution_count": 64,
   "metadata": {},
   "outputs": [
    {
     "name": "stdout",
     "output_type": "stream",
     "text": [
      "mean_squared_error: 2223448.448528599\n",
      "mean_absolute_error: 995.1604648224085\n",
      "r2_score: 0.5554991184775071\n",
      "0.5911167847797305\n"
     ]
    }
   ],
   "source": [
    "gb = GradientBoostingRegressor()\n",
    "gb.fit(x_train,y_train)\n",
    "pred=gb.predict(x_test)\n",
    "print(\"mean_squared_error:\",mean_squared_error(y_test,pred))\n",
    "print(\"mean_absolute_error:\",mean_absolute_error(y_test,pred))\n",
    "print(\"r2_score:\",r2_score(y_test,pred))\n",
    "print(gb.score(x_train,y_train))"
   ]
  },
  {
   "cell_type": "markdown",
   "metadata": {},
   "source": [
    "## Crossvalidation"
   ]
  },
  {
   "cell_type": "code",
   "execution_count": 65,
   "metadata": {},
   "outputs": [
    {
     "name": "stdout",
     "output_type": "stream",
     "text": [
      "Cross validation score of Linear Regression: -0.027328200631524902\n"
     ]
    }
   ],
   "source": [
    "from sklearn.model_selection import cross_val_score\n",
    "\n",
    "lrc = cross_val_score(lr, x, y, cv=5)\n",
    "\n",
    "print(\"Cross validation score of Linear Regression:\", lrc.mean())"
   ]
  },
  {
   "cell_type": "code",
   "execution_count": 66,
   "metadata": {},
   "outputs": [
    {
     "name": "stdout",
     "output_type": "stream",
     "text": [
      "Cross validation score of Random Forest: 0.045963197451202295\n"
     ]
    }
   ],
   "source": [
    "rfc = cross_val_score(rf, x, y, cv=5)\n",
    "\n",
    "print(\"Cross validation score of Random Forest:\", rfc.mean())"
   ]
  },
  {
   "cell_type": "code",
   "execution_count": 67,
   "metadata": {},
   "outputs": [
    {
     "name": "stdout",
     "output_type": "stream",
     "text": [
      "Cross validation score of Decision Tree : -0.5990856935578084\n"
     ]
    }
   ],
   "source": [
    "dtc = cross_val_score(dt, x, y, cv=5)\n",
    "\n",
    "print(\"Cross validation score of Decision Tree :\", dtc.mean())"
   ]
  },
  {
   "cell_type": "code",
   "execution_count": 68,
   "metadata": {},
   "outputs": [
    {
     "name": "stdout",
     "output_type": "stream",
     "text": [
      "Cross validation score of Kneigbors: -0.12751292378433532\n"
     ]
    }
   ],
   "source": [
    "knc = cross_val_score(kn, x, y, cv=5)\n",
    "\n",
    "print(\"Cross validation score of Kneigbors:\", knc.mean())"
   ]
  },
  {
   "cell_type": "code",
   "execution_count": 69,
   "metadata": {},
   "outputs": [
    {
     "name": "stdout",
     "output_type": "stream",
     "text": [
      "Cross validation score of Support Vector: -0.141245603299435\n"
     ]
    }
   ],
   "source": [
    "svc1 = cross_val_score(sv, x, y, cv=5)\n",
    "\n",
    "print(\"Cross validation score of Support Vector:\", svc1.mean())"
   ]
  },
  {
   "cell_type": "code",
   "execution_count": 70,
   "metadata": {},
   "outputs": [
    {
     "name": "stdout",
     "output_type": "stream",
     "text": [
      "Cross validation score of AdaBoost: -0.2724622864649605\n"
     ]
    }
   ],
   "source": [
    "adr = cross_val_score(ab, x, y, cv=5)\n",
    "\n",
    "print(\"Cross validation score of AdaBoost:\", adr.mean())"
   ]
  },
  {
   "cell_type": "code",
   "execution_count": 71,
   "metadata": {},
   "outputs": [
    {
     "name": "stdout",
     "output_type": "stream",
     "text": [
      "Cross validation score of GradientBoost: 0.2362723635549589\n"
     ]
    }
   ],
   "source": [
    "gbr = cross_val_score(gb, x, y, cv=5)\n",
    "\n",
    "print(\"Cross validation score of GradientBoost:\", gbr.mean())"
   ]
  },
  {
   "cell_type": "markdown",
   "metadata": {},
   "source": [
    "## Hyperparameter Tuning with RandomForest Regression"
   ]
  },
  {
   "cell_type": "code",
   "execution_count": 72,
   "metadata": {},
   "outputs": [],
   "source": [
    "from sklearn.model_selection import RandomizedSearchCV"
   ]
  },
  {
   "cell_type": "code",
   "execution_count": 73,
   "metadata": {},
   "outputs": [],
   "source": [
    "#Creating parameter list to pass in RandomizedSearchCV\n",
    "\n",
    "parameters = {'n_estimators':[10,50,100,150], 'max_depth': np.arange(2,10),\n",
    "             'criterion':['mse','mae'], 'max_features':['auto','sqrt', 'log2']}"
   ]
  },
  {
   "cell_type": "code",
   "execution_count": 74,
   "metadata": {},
   "outputs": [
    {
     "data": {
      "text/plain": [
       "RandomizedSearchCV(cv=5, estimator=RandomForestRegressor(),\n",
       "                   param_distributions={'criterion': ['mse', 'mae'],\n",
       "                                        'max_depth': array([2, 3, 4, 5, 6, 7, 8, 9]),\n",
       "                                        'max_features': ['auto', 'sqrt',\n",
       "                                                         'log2'],\n",
       "                                        'n_estimators': [10, 50, 100, 150]})"
      ]
     },
     "execution_count": 74,
     "metadata": {},
     "output_type": "execute_result"
    }
   ],
   "source": [
    "GCV = RandomizedSearchCV(RandomForestRegressor(), parameters, cv=5)\n",
    "GCV.fit(x_train,y_train)"
   ]
  },
  {
   "cell_type": "code",
   "execution_count": 75,
   "metadata": {},
   "outputs": [
    {
     "data": {
      "text/plain": [
       "{'n_estimators': 100,\n",
       " 'max_features': 'auto',\n",
       " 'max_depth': 8,\n",
       " 'criterion': 'mse'}"
      ]
     },
     "execution_count": 75,
     "metadata": {},
     "output_type": "execute_result"
    }
   ],
   "source": [
    "#Printing the best parameters.\n",
    "GCV.best_params_"
   ]
  },
  {
   "cell_type": "markdown",
   "metadata": {},
   "source": [
    "## Model with RandomForest Regression"
   ]
  },
  {
   "cell_type": "code",
   "execution_count": 76,
   "metadata": {},
   "outputs": [
    {
     "name": "stdout",
     "output_type": "stream",
     "text": [
      "mean_squared_error: 2247384.0439524255\n",
      "mean_absolute_error: 991.9578652113487\n",
      "r2_score: 0.5507140319275143\n",
      "63.9694593364267\n"
     ]
    }
   ],
   "source": [
    "model = RandomForestRegressor(n_estimators=150, criterion='mse', max_depth=7, max_features='auto')\n",
    "model.fit(x_train,y_train)\n",
    "pred = model.predict(x_test)\n",
    "print(\"mean_squared_error:\",mean_squared_error(y_test,pred))\n",
    "print(\"mean_absolute_error:\",mean_absolute_error(y_test,pred))\n",
    "print(\"r2_score:\",r2_score(y_test,pred))\n",
    "print(model.score(x_train,y_train)*100)"
   ]
  },
  {
   "cell_type": "markdown",
   "metadata": {},
   "source": [
    "# SAVING THE MODEL"
   ]
  },
  {
   "cell_type": "code",
   "execution_count": null,
   "metadata": {},
   "outputs": [],
   "source": [
    "import joblib\n",
    "joblib.dump(model,\"_price_prediction_submission.pkl\")"
   ]
  },
  {
   "cell_type": "code",
   "execution_count": null,
   "metadata": {},
   "outputs": [],
   "source": []
  }
 ],
 "metadata": {
  "kernelspec": {
   "display_name": "Python 3",
   "language": "python",
   "name": "python3"
  },
  "language_info": {
   "codemirror_mode": {
    "name": "ipython",
    "version": 3
   },
   "file_extension": ".py",
   "mimetype": "text/x-python",
   "name": "python",
   "nbconvert_exporter": "python",
   "pygments_lexer": "ipython3",
   "version": "3.8.5"
  }
 },
 "nbformat": 4,
 "nbformat_minor": 4
}
