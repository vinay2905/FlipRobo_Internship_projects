{
 "cells": [
  {
   "cell_type": "code",
   "execution_count": 1,
   "metadata": {},
   "outputs": [],
   "source": [
    "import pandas as pd\n",
    "import numpy as np\n",
    "import matplotlib.pyplot as plt\n",
    "import seaborn as sns\n",
    "import warnings\n",
    "warnings.filterwarnings(\"ignore\")"
   ]
  },
  {
   "cell_type": "code",
   "execution_count": 2,
   "metadata": {},
   "outputs": [],
   "source": [
    "car = pd.read_excel(\"Used_car_data1.xlsx\")"
   ]
  },
  {
   "cell_type": "code",
   "execution_count": 3,
   "metadata": {},
   "outputs": [
    {
     "data": {
      "text/html": [
       "<div>\n",
       "<style scoped>\n",
       "    .dataframe tbody tr th:only-of-type {\n",
       "        vertical-align: middle;\n",
       "    }\n",
       "\n",
       "    .dataframe tbody tr th {\n",
       "        vertical-align: top;\n",
       "    }\n",
       "\n",
       "    .dataframe thead th {\n",
       "        text-align: right;\n",
       "    }\n",
       "</style>\n",
       "<table border=\"1\" class=\"dataframe\">\n",
       "  <thead>\n",
       "    <tr style=\"text-align: right;\">\n",
       "      <th></th>\n",
       "      <th>Unnamed: 0</th>\n",
       "      <th>Brand</th>\n",
       "      <th>Model</th>\n",
       "      <th>Variant</th>\n",
       "      <th>Year</th>\n",
       "      <th>Kilometers</th>\n",
       "      <th>Fuel</th>\n",
       "      <th>Number_of_owners</th>\n",
       "      <th>Location</th>\n",
       "      <th>Transmission</th>\n",
       "      <th>Price</th>\n",
       "    </tr>\n",
       "  </thead>\n",
       "  <tbody>\n",
       "    <tr>\n",
       "      <th>0</th>\n",
       "      <td>0</td>\n",
       "      <td>Maruti</td>\n",
       "      <td>AltoK10</td>\n",
       "      <td>VXI</td>\n",
       "      <td>2017</td>\n",
       "      <td>11,691 km</td>\n",
       "      <td>Petrol</td>\n",
       "      <td>1st Owner</td>\n",
       "      <td>New Delhi</td>\n",
       "      <td>Manual</td>\n",
       "      <td>₹3,45,699</td>\n",
       "    </tr>\n",
       "    <tr>\n",
       "      <th>1</th>\n",
       "      <td>1</td>\n",
       "      <td>Maruti</td>\n",
       "      <td>Swift</td>\n",
       "      <td>LXI</td>\n",
       "      <td>2012</td>\n",
       "      <td>31,999 km</td>\n",
       "      <td>Petrol</td>\n",
       "      <td>1st Owner</td>\n",
       "      <td>New Delhi</td>\n",
       "      <td>Manual</td>\n",
       "      <td>₹2,94,399</td>\n",
       "    </tr>\n",
       "    <tr>\n",
       "      <th>2</th>\n",
       "      <td>2</td>\n",
       "      <td>Maruti</td>\n",
       "      <td>Alto800</td>\n",
       "      <td>LXI</td>\n",
       "      <td>2017</td>\n",
       "      <td>8,501 km</td>\n",
       "      <td>Petrol</td>\n",
       "      <td>1st Owner</td>\n",
       "      <td>New Delhi</td>\n",
       "      <td>Manual</td>\n",
       "      <td>₹2,93,799</td>\n",
       "    </tr>\n",
       "    <tr>\n",
       "      <th>3</th>\n",
       "      <td>3</td>\n",
       "      <td>Maruti</td>\n",
       "      <td>Alto800</td>\n",
       "      <td>VXI</td>\n",
       "      <td>2014</td>\n",
       "      <td>12,535 km</td>\n",
       "      <td>Petrol</td>\n",
       "      <td>1st Owner</td>\n",
       "      <td>New Delhi</td>\n",
       "      <td>Manual</td>\n",
       "      <td>₹2,93,599</td>\n",
       "    </tr>\n",
       "    <tr>\n",
       "      <th>4</th>\n",
       "      <td>4</td>\n",
       "      <td>Maruti</td>\n",
       "      <td>AltoK10</td>\n",
       "      <td>VXI</td>\n",
       "      <td>2011</td>\n",
       "      <td>20,354 km</td>\n",
       "      <td>Petrol</td>\n",
       "      <td>1st Owner</td>\n",
       "      <td>New Delhi</td>\n",
       "      <td>Manual</td>\n",
       "      <td>₹2,12,799</td>\n",
       "    </tr>\n",
       "  </tbody>\n",
       "</table>\n",
       "</div>"
      ],
      "text/plain": [
       "   Unnamed: 0   Brand    Model Variant  Year Kilometers    Fuel  \\\n",
       "0           0  Maruti  AltoK10     VXI  2017  11,691 km  Petrol   \n",
       "1           1  Maruti    Swift     LXI  2012  31,999 km  Petrol   \n",
       "2           2  Maruti  Alto800     LXI  2017   8,501 km  Petrol   \n",
       "3           3  Maruti  Alto800     VXI  2014  12,535 km  Petrol   \n",
       "4           4  Maruti  AltoK10     VXI  2011  20,354 km  Petrol   \n",
       "\n",
       "  Number_of_owners   Location Transmission      Price  \n",
       "0        1st Owner  New Delhi       Manual  ₹3,45,699  \n",
       "1        1st Owner  New Delhi       Manual  ₹2,94,399  \n",
       "2        1st Owner  New Delhi       Manual  ₹2,93,799  \n",
       "3        1st Owner  New Delhi       Manual  ₹2,93,599  \n",
       "4        1st Owner  New Delhi       Manual  ₹2,12,799  "
      ]
     },
     "execution_count": 3,
     "metadata": {},
     "output_type": "execute_result"
    }
   ],
   "source": [
    "car.head()"
   ]
  },
  {
   "cell_type": "code",
   "execution_count": 4,
   "metadata": {},
   "outputs": [
    {
     "name": "stdout",
     "output_type": "stream",
     "text": [
      "<class 'pandas.core.frame.DataFrame'>\n",
      "RangeIndex: 2003 entries, 0 to 2002\n",
      "Data columns (total 11 columns):\n",
      " #   Column            Non-Null Count  Dtype \n",
      "---  ------            --------------  ----- \n",
      " 0   Unnamed: 0        2003 non-null   int64 \n",
      " 1   Brand             2003 non-null   object\n",
      " 2   Model             2003 non-null   object\n",
      " 3   Variant           2003 non-null   object\n",
      " 4   Year              2003 non-null   int64 \n",
      " 5   Kilometers        2003 non-null   object\n",
      " 6   Fuel              2003 non-null   object\n",
      " 7   Number_of_owners  2003 non-null   object\n",
      " 8   Location          2003 non-null   object\n",
      " 9   Transmission      2003 non-null   object\n",
      " 10  Price             2003 non-null   object\n",
      "dtypes: int64(2), object(9)\n",
      "memory usage: 172.3+ KB\n"
     ]
    }
   ],
   "source": [
    "car.info()"
   ]
  },
  {
   "cell_type": "markdown",
   "metadata": {},
   "source": [
    "# Preprocessing"
   ]
  },
  {
   "cell_type": "code",
   "execution_count": 5,
   "metadata": {},
   "outputs": [],
   "source": [
    "car.drop(['Unnamed: 0'], axis = 1, inplace=True)"
   ]
  },
  {
   "cell_type": "markdown",
   "metadata": {},
   "source": [
    "The target column is the 'Price'. We will need to remove the INR symbol, kilometers has km we will clean that column and understand the data more."
   ]
  },
  {
   "cell_type": "code",
   "execution_count": 6,
   "metadata": {},
   "outputs": [
    {
     "data": {
      "text/plain": [
       "Hyundai       200\n",
       "Maruti        200\n",
       "Renault       175\n",
       "Honda         166\n",
       "Ford          157\n",
       "Volkswagen    152\n",
       "Toyota        145\n",
       "Tata          143\n",
       "Mahindra      138\n",
       "Skoda          93\n",
       "BMW            83\n",
       "Nissan         80\n",
       "Chevrolet      76\n",
       "Mercedes       64\n",
       "Audi           60\n",
       "KIA            52\n",
       "Volvo          13\n",
       "Jaguar          6\n",
       "Name: Brand, dtype: int64"
      ]
     },
     "execution_count": 6,
     "metadata": {},
     "output_type": "execute_result"
    }
   ],
   "source": [
    "car['Brand'].value_counts()"
   ]
  },
  {
   "cell_type": "code",
   "execution_count": 7,
   "metadata": {
    "scrolled": false
   },
   "outputs": [
    {
     "data": {
      "text/plain": [
       "<AxesSubplot:xlabel='Brand', ylabel='count'>"
      ]
     },
     "execution_count": 7,
     "metadata": {},
     "output_type": "execute_result"
    },
    {
     "data": {
      "image/png": "[encoded data removed]",
      "text/plain": [
       "<Figure size 1296x576 with 1 Axes>"
      ]
     },
     "metadata": {
      "needs_background": "light"
     },
     "output_type": "display_data"
    }
   ],
   "source": [
    "plt.figure(figsize=(18,8))\n",
    "sns.countplot(car['Brand'])"
   ]
  },
  {
   "cell_type": "code",
   "execution_count": 8,
   "metadata": {},
   "outputs": [],
   "source": [
    "pd.options.display.max_rows = 999"
   ]
  },
  {
   "cell_type": "code",
   "execution_count": 9,
   "metadata": {
    "scrolled": false
   },
   "outputs": [
    {
     "data": {
      "text/plain": [
       "Brand       Model       \n",
       "Audi        Q3               24\n",
       "            A4               16\n",
       "            A6                9\n",
       "            A3                8\n",
       "            TT                3\n",
       "BMW         3Series          37\n",
       "            5Series          25\n",
       "            X1               15\n",
       "            Mini              3\n",
       "            X3                3\n",
       "Chevrolet   Beat             39\n",
       "            Spark            11\n",
       "            Sail             10\n",
       "            AveoUVA           7\n",
       "            Cruze             5\n",
       "            Enjoy             3\n",
       "            SailUVA           1\n",
       "Ford        Ecosport         97\n",
       "            Figo             23\n",
       "            FigoAspire       14\n",
       "            NewFigo          14\n",
       "            Fiesta            7\n",
       "            FREESTYLE         2\n",
       "Honda       City             51\n",
       "            Brio             34\n",
       "            Amaze            33\n",
       "            Jazz             29\n",
       "            WR-V              8\n",
       "            BR-V              3\n",
       "            CityZX            2\n",
       "            Civic             2\n",
       "            Mobilio           2\n",
       "            Accord            1\n",
       "            CRV               1\n",
       "Hyundai     Grandi10         67\n",
       "            i10              39\n",
       "            Eon              24\n",
       "            Elitei20         17\n",
       "            i20              16\n",
       "            Verna             8\n",
       "            SantroXing        7\n",
       "            VENUE             6\n",
       "            GRANDI10NIOS      4\n",
       "            NEWSANTRO         4\n",
       "            Xcent             3\n",
       "            i20Active         3\n",
       "            Creta             1\n",
       "            XCENTPRIME        1\n",
       "Jaguar      XF                5\n",
       "            XJ                1\n",
       "KIA         SELTOS           46\n",
       "            SONET             6\n",
       "Mahindra    XUV500           59\n",
       "            Scorpio          22\n",
       "            TUV300           20\n",
       "            XUV3OO           14\n",
       "            Bolero           10\n",
       "            Kuv100            4\n",
       "            Xylo              4\n",
       "            NUVOSPORT         2\n",
       "            E2O               1\n",
       "            KUV100NXT         1\n",
       "            Thar              1\n",
       "Maruti      Alto800          53\n",
       "            AltoK10          37\n",
       "            Alto             19\n",
       "            Swift            17\n",
       "            WagonR1.0        17\n",
       "            Baleno           12\n",
       "            Celerio          10\n",
       "            Eeco              9\n",
       "            Ritz              6\n",
       "            SwiftDzire        6\n",
       "            Dzire             5\n",
       "            ZenEstilo         3\n",
       "            Ertiga            2\n",
       "            IGNIS             2\n",
       "            OMNIE             1\n",
       "            SPRESSO           1\n",
       "Mercedes    BenzEClass       24\n",
       "            BenzCClass       17\n",
       "            BenzCLAClass     10\n",
       "            BenzBClass        3\n",
       "            BenzMlClass       3\n",
       "            BenzSClass        3\n",
       "            BenzCLSClass      2\n",
       "            BenzGLCCLASS      2\n",
       "Nissan      Terrano          24\n",
       "            Sunny            22\n",
       "            Micra            19\n",
       "            MicraActive       9\n",
       "            Kicks             3\n",
       "            MAGNITE           3\n",
       "Renault     Kwid            131\n",
       "            Duster           26\n",
       "            TRIBER           12\n",
       "            Captur            2\n",
       "            Lodgy             2\n",
       "            Pulse             2\n",
       "Skoda       Rapid            49\n",
       "            Superb           26\n",
       "            Fabia             6\n",
       "            Octavia           5\n",
       "            Laura             3\n",
       "            Yeti              3\n",
       "            KAROQ             1\n",
       "Tata        Tiago            59\n",
       "            NEXON            25\n",
       "            Nano             15\n",
       "            Hexa             11\n",
       "            Harrier           8\n",
       "            Zest              8\n",
       "            SafariStorme      4\n",
       "            TIGOR             4\n",
       "            ALTROZ            3\n",
       "            XenonXT           3\n",
       "            IndicaVista       2\n",
       "            Manza             1\n",
       "Toyota      EtiosLiva        36\n",
       "            Etios            26\n",
       "            InnovaCrysta     26\n",
       "            Innova           18\n",
       "            CorollaAltis     12\n",
       "            YARIS            11\n",
       "            Glanza            8\n",
       "            Fortuner          6\n",
       "            Camry             1\n",
       "            URBANCRUISER      1\n",
       "Volkswagen  Polo             98\n",
       "            Vento            33\n",
       "            Ameo             15\n",
       "            Jetta             5\n",
       "            Passat            1\n",
       "Volvo       S60               7\n",
       "            XC60              6\n",
       "Name: Model, dtype: int64"
      ]
     },
     "execution_count": 9,
     "metadata": {},
     "output_type": "execute_result"
    }
   ],
   "source": [
    "car.groupby('Brand')['Model'].value_counts()"
   ]
  },
  {
   "cell_type": "code",
   "execution_count": 10,
   "metadata": {},
   "outputs": [],
   "source": [
    "car['Kilometers_cleaned'] = car['Kilometers'].replace(to_replace='km', value='',regex=True)"
   ]
  },
  {
   "cell_type": "code",
   "execution_count": 11,
   "metadata": {},
   "outputs": [],
   "source": [
    "car['Kilometers_cleaned'] = car['Kilometers_cleaned'].replace(to_replace=',', value='',regex=True)"
   ]
  },
  {
   "cell_type": "code",
   "execution_count": 12,
   "metadata": {},
   "outputs": [],
   "source": [
    "car['Price_cleaned'] = car['Price'].replace(to_replace='₹', value='',regex=True)"
   ]
  },
  {
   "cell_type": "code",
   "execution_count": 13,
   "metadata": {},
   "outputs": [],
   "source": [
    "car['Price_cleaned'] = car['Price_cleaned'].replace(to_replace=',', value='',regex=True)"
   ]
  },
  {
   "cell_type": "code",
   "execution_count": 14,
   "metadata": {},
   "outputs": [],
   "source": [
    "car.drop(['Kilometers','Price'], axis=1, inplace=True)"
   ]
  },
  {
   "cell_type": "code",
   "execution_count": 15,
   "metadata": {},
   "outputs": [
    {
     "data": {
      "text/html": [
       "<div>\n",
       "<style scoped>\n",
       "    .dataframe tbody tr th:only-of-type {\n",
       "        vertical-align: middle;\n",
       "    }\n",
       "\n",
       "    .dataframe tbody tr th {\n",
       "        vertical-align: top;\n",
       "    }\n",
       "\n",
       "    .dataframe thead th {\n",
       "        text-align: right;\n",
       "    }\n",
       "</style>\n",
       "<table border=\"1\" class=\"dataframe\">\n",
       "  <thead>\n",
       "    <tr style=\"text-align: right;\">\n",
       "      <th></th>\n",
       "      <th>Brand</th>\n",
       "      <th>Model</th>\n",
       "      <th>Variant</th>\n",
       "      <th>Year</th>\n",
       "      <th>Fuel</th>\n",
       "      <th>Number_of_owners</th>\n",
       "      <th>Location</th>\n",
       "      <th>Transmission</th>\n",
       "      <th>Kilometers_cleaned</th>\n",
       "      <th>Price_cleaned</th>\n",
       "    </tr>\n",
       "  </thead>\n",
       "  <tbody>\n",
       "    <tr>\n",
       "      <th>0</th>\n",
       "      <td>Maruti</td>\n",
       "      <td>AltoK10</td>\n",
       "      <td>VXI</td>\n",
       "      <td>2017</td>\n",
       "      <td>Petrol</td>\n",
       "      <td>1st Owner</td>\n",
       "      <td>New Delhi</td>\n",
       "      <td>Manual</td>\n",
       "      <td>11691</td>\n",
       "      <td>345699</td>\n",
       "    </tr>\n",
       "    <tr>\n",
       "      <th>1</th>\n",
       "      <td>Maruti</td>\n",
       "      <td>Swift</td>\n",
       "      <td>LXI</td>\n",
       "      <td>2012</td>\n",
       "      <td>Petrol</td>\n",
       "      <td>1st Owner</td>\n",
       "      <td>New Delhi</td>\n",
       "      <td>Manual</td>\n",
       "      <td>31999</td>\n",
       "      <td>294399</td>\n",
       "    </tr>\n",
       "    <tr>\n",
       "      <th>2</th>\n",
       "      <td>Maruti</td>\n",
       "      <td>Alto800</td>\n",
       "      <td>LXI</td>\n",
       "      <td>2017</td>\n",
       "      <td>Petrol</td>\n",
       "      <td>1st Owner</td>\n",
       "      <td>New Delhi</td>\n",
       "      <td>Manual</td>\n",
       "      <td>8501</td>\n",
       "      <td>293799</td>\n",
       "    </tr>\n",
       "    <tr>\n",
       "      <th>3</th>\n",
       "      <td>Maruti</td>\n",
       "      <td>Alto800</td>\n",
       "      <td>VXI</td>\n",
       "      <td>2014</td>\n",
       "      <td>Petrol</td>\n",
       "      <td>1st Owner</td>\n",
       "      <td>New Delhi</td>\n",
       "      <td>Manual</td>\n",
       "      <td>12535</td>\n",
       "      <td>293599</td>\n",
       "    </tr>\n",
       "    <tr>\n",
       "      <th>4</th>\n",
       "      <td>Maruti</td>\n",
       "      <td>AltoK10</td>\n",
       "      <td>VXI</td>\n",
       "      <td>2011</td>\n",
       "      <td>Petrol</td>\n",
       "      <td>1st Owner</td>\n",
       "      <td>New Delhi</td>\n",
       "      <td>Manual</td>\n",
       "      <td>20354</td>\n",
       "      <td>212799</td>\n",
       "    </tr>\n",
       "  </tbody>\n",
       "</table>\n",
       "</div>"
      ],
      "text/plain": [
       "    Brand    Model Variant  Year    Fuel Number_of_owners   Location  \\\n",
       "0  Maruti  AltoK10     VXI  2017  Petrol        1st Owner  New Delhi   \n",
       "1  Maruti    Swift     LXI  2012  Petrol        1st Owner  New Delhi   \n",
       "2  Maruti  Alto800     LXI  2017  Petrol        1st Owner  New Delhi   \n",
       "3  Maruti  Alto800     VXI  2014  Petrol        1st Owner  New Delhi   \n",
       "4  Maruti  AltoK10     VXI  2011  Petrol        1st Owner  New Delhi   \n",
       "\n",
       "  Transmission Kilometers_cleaned Price_cleaned  \n",
       "0       Manual             11691         345699  \n",
       "1       Manual             31999         294399  \n",
       "2       Manual              8501         293799  \n",
       "3       Manual             12535         293599  \n",
       "4       Manual             20354         212799  "
      ]
     },
     "execution_count": 15,
     "metadata": {},
     "output_type": "execute_result"
    }
   ],
   "source": [
    "car.head(5)"
   ]
  },
  {
   "cell_type": "code",
   "execution_count": 16,
   "metadata": {},
   "outputs": [],
   "source": [
    "car['Year_cleaned'] = 2021 - car['Year']"
   ]
  },
  {
   "cell_type": "code",
   "execution_count": 17,
   "metadata": {},
   "outputs": [],
   "source": [
    "car.drop(['Year'], axis=1, inplace=True)"
   ]
  },
  {
   "cell_type": "code",
   "execution_count": 18,
   "metadata": {},
   "outputs": [],
   "source": [
    "car['Kilometers_cleaned'] = car['Kilometers_cleaned'].astype(int)\n",
    "car['Price_cleaned'] = car['Price_cleaned'].astype(int)"
   ]
  },
  {
   "cell_type": "code",
   "execution_count": 19,
   "metadata": {},
   "outputs": [
    {
     "data": {
      "text/plain": [
       "<AxesSubplot:xlabel='Brand', ylabel='Price_cleaned'>"
      ]
     },
     "execution_count": 19,
     "metadata": {},
     "output_type": "execute_result"
    },
    {
     "data": {
      "image/png": "[encoded data removed]",
      "text/plain": [
       "<Figure size 1296x576 with 1 Axes>"
      ]
     },
     "metadata": {
      "needs_background": "light"
     },
     "output_type": "display_data"
    }
   ],
   "source": [
    "plt.figure(figsize=(18,8))\n",
    "sns.stripplot(car['Brand'],car['Price_cleaned'], linewidth=1)"
   ]
  },
  {
   "cell_type": "markdown",
   "metadata": {},
   "source": [
    "We can see Maruti have a low used car price and the highest would be Audi, Benz and BMW cars."
   ]
  },
  {
   "cell_type": "code",
   "execution_count": 20,
   "metadata": {},
   "outputs": [
    {
     "data": {
      "text/html": [
       "<div>\n",
       "<style scoped>\n",
       "    .dataframe tbody tr th:only-of-type {\n",
       "        vertical-align: middle;\n",
       "    }\n",
       "\n",
       "    .dataframe tbody tr th {\n",
       "        vertical-align: top;\n",
       "    }\n",
       "\n",
       "    .dataframe thead th {\n",
       "        text-align: right;\n",
       "    }\n",
       "</style>\n",
       "<table border=\"1\" class=\"dataframe\">\n",
       "  <thead>\n",
       "    <tr style=\"text-align: right;\">\n",
       "      <th></th>\n",
       "      <th>Price_cleaned</th>\n",
       "      <th>Kilometers_cleaned</th>\n",
       "    </tr>\n",
       "    <tr>\n",
       "      <th>Brand</th>\n",
       "      <th></th>\n",
       "      <th></th>\n",
       "    </tr>\n",
       "  </thead>\n",
       "  <tbody>\n",
       "    <tr>\n",
       "      <th>Chevrolet</th>\n",
       "      <td>165000.0</td>\n",
       "      <td>70931.0</td>\n",
       "    </tr>\n",
       "    <tr>\n",
       "      <th>Maruti</th>\n",
       "      <td>334799.0</td>\n",
       "      <td>20297.5</td>\n",
       "    </tr>\n",
       "    <tr>\n",
       "      <th>Renault</th>\n",
       "      <td>352599.0</td>\n",
       "      <td>26665.0</td>\n",
       "    </tr>\n",
       "    <tr>\n",
       "      <th>Hyundai</th>\n",
       "      <td>407499.0</td>\n",
       "      <td>26834.5</td>\n",
       "    </tr>\n",
       "    <tr>\n",
       "      <th>Honda</th>\n",
       "      <td>427499.0</td>\n",
       "      <td>47022.0</td>\n",
       "    </tr>\n",
       "    <tr>\n",
       "      <th>Nissan</th>\n",
       "      <td>438199.0</td>\n",
       "      <td>60298.5</td>\n",
       "    </tr>\n",
       "    <tr>\n",
       "      <th>Volkswagen</th>\n",
       "      <td>458949.5</td>\n",
       "      <td>56971.5</td>\n",
       "    </tr>\n",
       "    <tr>\n",
       "      <th>Skoda</th>\n",
       "      <td>477499.0</td>\n",
       "      <td>77360.0</td>\n",
       "    </tr>\n",
       "    <tr>\n",
       "      <th>Tata</th>\n",
       "      <td>510299.0</td>\n",
       "      <td>24296.0</td>\n",
       "    </tr>\n",
       "    <tr>\n",
       "      <th>Ford</th>\n",
       "      <td>516099.0</td>\n",
       "      <td>51161.0</td>\n",
       "    </tr>\n",
       "    <tr>\n",
       "      <th>Toyota</th>\n",
       "      <td>674899.0</td>\n",
       "      <td>63932.0</td>\n",
       "    </tr>\n",
       "    <tr>\n",
       "      <th>Mahindra</th>\n",
       "      <td>835000.0</td>\n",
       "      <td>49726.0</td>\n",
       "    </tr>\n",
       "    <tr>\n",
       "      <th>Volvo</th>\n",
       "      <td>1207999.0</td>\n",
       "      <td>52968.0</td>\n",
       "    </tr>\n",
       "    <tr>\n",
       "      <th>Mercedes</th>\n",
       "      <td>1288000.0</td>\n",
       "      <td>66096.0</td>\n",
       "    </tr>\n",
       "    <tr>\n",
       "      <th>Audi</th>\n",
       "      <td>1479599.0</td>\n",
       "      <td>69074.0</td>\n",
       "    </tr>\n",
       "    <tr>\n",
       "      <th>KIA</th>\n",
       "      <td>1517000.0</td>\n",
       "      <td>12872.0</td>\n",
       "    </tr>\n",
       "    <tr>\n",
       "      <th>BMW</th>\n",
       "      <td>1535099.0</td>\n",
       "      <td>79219.0</td>\n",
       "    </tr>\n",
       "    <tr>\n",
       "      <th>Jaguar</th>\n",
       "      <td>1937749.5</td>\n",
       "      <td>62833.0</td>\n",
       "    </tr>\n",
       "  </tbody>\n",
       "</table>\n",
       "</div>"
      ],
      "text/plain": [
       "            Price_cleaned  Kilometers_cleaned\n",
       "Brand                                        \n",
       "Chevrolet        165000.0             70931.0\n",
       "Maruti           334799.0             20297.5\n",
       "Renault          352599.0             26665.0\n",
       "Hyundai          407499.0             26834.5\n",
       "Honda            427499.0             47022.0\n",
       "Nissan           438199.0             60298.5\n",
       "Volkswagen       458949.5             56971.5\n",
       "Skoda            477499.0             77360.0\n",
       "Tata             510299.0             24296.0\n",
       "Ford             516099.0             51161.0\n",
       "Toyota           674899.0             63932.0\n",
       "Mahindra         835000.0             49726.0\n",
       "Volvo           1207999.0             52968.0\n",
       "Mercedes        1288000.0             66096.0\n",
       "Audi            1479599.0             69074.0\n",
       "KIA             1517000.0             12872.0\n",
       "BMW             1535099.0             79219.0\n",
       "Jaguar          1937749.5             62833.0"
      ]
     },
     "execution_count": 20,
     "metadata": {},
     "output_type": "execute_result"
    }
   ],
   "source": [
    "car.groupby('Brand')[['Price_cleaned','Kilometers_cleaned']].median().sort_values('Price_cleaned')"
   ]
  },
  {
   "cell_type": "markdown",
   "metadata": {},
   "source": [
    "From above, we can observe that Chevrolet, Maruti, Renault have lowest price point. However, we haven't included the year aspect yet."
   ]
  },
  {
   "cell_type": "code",
   "execution_count": 21,
   "metadata": {},
   "outputs": [
    {
     "data": {
      "text/html": [
       "<div>\n",
       "<style scoped>\n",
       "    .dataframe tbody tr th:only-of-type {\n",
       "        vertical-align: middle;\n",
       "    }\n",
       "\n",
       "    .dataframe tbody tr th {\n",
       "        vertical-align: top;\n",
       "    }\n",
       "\n",
       "    .dataframe thead th {\n",
       "        text-align: right;\n",
       "    }\n",
       "</style>\n",
       "<table border=\"1\" class=\"dataframe\">\n",
       "  <thead>\n",
       "    <tr style=\"text-align: right;\">\n",
       "      <th></th>\n",
       "      <th>Brand</th>\n",
       "      <th>Model</th>\n",
       "      <th>Variant</th>\n",
       "      <th>Fuel</th>\n",
       "      <th>Number_of_owners</th>\n",
       "      <th>Location</th>\n",
       "      <th>Transmission</th>\n",
       "      <th>Kilometers_cleaned</th>\n",
       "      <th>Price_cleaned</th>\n",
       "      <th>Year_cleaned</th>\n",
       "    </tr>\n",
       "  </thead>\n",
       "  <tbody>\n",
       "    <tr>\n",
       "      <th>0</th>\n",
       "      <td>Maruti</td>\n",
       "      <td>AltoK10</td>\n",
       "      <td>VXI</td>\n",
       "      <td>Petrol</td>\n",
       "      <td>1st Owner</td>\n",
       "      <td>New Delhi</td>\n",
       "      <td>Manual</td>\n",
       "      <td>11691</td>\n",
       "      <td>345699</td>\n",
       "      <td>4</td>\n",
       "    </tr>\n",
       "    <tr>\n",
       "      <th>1</th>\n",
       "      <td>Maruti</td>\n",
       "      <td>Swift</td>\n",
       "      <td>LXI</td>\n",
       "      <td>Petrol</td>\n",
       "      <td>1st Owner</td>\n",
       "      <td>New Delhi</td>\n",
       "      <td>Manual</td>\n",
       "      <td>31999</td>\n",
       "      <td>294399</td>\n",
       "      <td>9</td>\n",
       "    </tr>\n",
       "    <tr>\n",
       "      <th>2</th>\n",
       "      <td>Maruti</td>\n",
       "      <td>Alto800</td>\n",
       "      <td>LXI</td>\n",
       "      <td>Petrol</td>\n",
       "      <td>1st Owner</td>\n",
       "      <td>New Delhi</td>\n",
       "      <td>Manual</td>\n",
       "      <td>8501</td>\n",
       "      <td>293799</td>\n",
       "      <td>4</td>\n",
       "    </tr>\n",
       "    <tr>\n",
       "      <th>3</th>\n",
       "      <td>Maruti</td>\n",
       "      <td>Alto800</td>\n",
       "      <td>VXI</td>\n",
       "      <td>Petrol</td>\n",
       "      <td>1st Owner</td>\n",
       "      <td>New Delhi</td>\n",
       "      <td>Manual</td>\n",
       "      <td>12535</td>\n",
       "      <td>293599</td>\n",
       "      <td>7</td>\n",
       "    </tr>\n",
       "    <tr>\n",
       "      <th>4</th>\n",
       "      <td>Maruti</td>\n",
       "      <td>AltoK10</td>\n",
       "      <td>VXI</td>\n",
       "      <td>Petrol</td>\n",
       "      <td>1st Owner</td>\n",
       "      <td>New Delhi</td>\n",
       "      <td>Manual</td>\n",
       "      <td>20354</td>\n",
       "      <td>212799</td>\n",
       "      <td>10</td>\n",
       "    </tr>\n",
       "  </tbody>\n",
       "</table>\n",
       "</div>"
      ],
      "text/plain": [
       "    Brand    Model Variant    Fuel Number_of_owners   Location Transmission  \\\n",
       "0  Maruti  AltoK10     VXI  Petrol        1st Owner  New Delhi       Manual   \n",
       "1  Maruti    Swift     LXI  Petrol        1st Owner  New Delhi       Manual   \n",
       "2  Maruti  Alto800     LXI  Petrol        1st Owner  New Delhi       Manual   \n",
       "3  Maruti  Alto800     VXI  Petrol        1st Owner  New Delhi       Manual   \n",
       "4  Maruti  AltoK10     VXI  Petrol        1st Owner  New Delhi       Manual   \n",
       "\n",
       "   Kilometers_cleaned  Price_cleaned  Year_cleaned  \n",
       "0               11691         345699             4  \n",
       "1               31999         294399             9  \n",
       "2                8501         293799             4  \n",
       "3               12535         293599             7  \n",
       "4               20354         212799            10  "
      ]
     },
     "execution_count": 21,
     "metadata": {},
     "output_type": "execute_result"
    }
   ],
   "source": [
    "car.head()"
   ]
  },
  {
   "cell_type": "code",
   "execution_count": 22,
   "metadata": {},
   "outputs": [
    {
     "data": {
      "text/html": [
       "<div>\n",
       "<style scoped>\n",
       "    .dataframe tbody tr th:only-of-type {\n",
       "        vertical-align: middle;\n",
       "    }\n",
       "\n",
       "    .dataframe tbody tr th {\n",
       "        vertical-align: top;\n",
       "    }\n",
       "\n",
       "    .dataframe thead th {\n",
       "        text-align: right;\n",
       "    }\n",
       "</style>\n",
       "<table border=\"1\" class=\"dataframe\">\n",
       "  <thead>\n",
       "    <tr style=\"text-align: right;\">\n",
       "      <th></th>\n",
       "      <th>Price_cleaned</th>\n",
       "      <th>Kilometers_cleaned</th>\n",
       "      <th>Year_cleaned</th>\n",
       "    </tr>\n",
       "    <tr>\n",
       "      <th>Brand</th>\n",
       "      <th></th>\n",
       "      <th></th>\n",
       "      <th></th>\n",
       "    </tr>\n",
       "  </thead>\n",
       "  <tbody>\n",
       "    <tr>\n",
       "      <th>Chevrolet</th>\n",
       "      <td>165000.0</td>\n",
       "      <td>70931.0</td>\n",
       "      <td>8</td>\n",
       "    </tr>\n",
       "    <tr>\n",
       "      <th>Maruti</th>\n",
       "      <td>334799.0</td>\n",
       "      <td>20297.5</td>\n",
       "      <td>5</td>\n",
       "    </tr>\n",
       "    <tr>\n",
       "      <th>Renault</th>\n",
       "      <td>352599.0</td>\n",
       "      <td>26665.0</td>\n",
       "      <td>4</td>\n",
       "    </tr>\n",
       "    <tr>\n",
       "      <th>Hyundai</th>\n",
       "      <td>407499.0</td>\n",
       "      <td>26834.5</td>\n",
       "      <td>6</td>\n",
       "    </tr>\n",
       "    <tr>\n",
       "      <th>Honda</th>\n",
       "      <td>427499.0</td>\n",
       "      <td>47022.0</td>\n",
       "      <td>7</td>\n",
       "    </tr>\n",
       "    <tr>\n",
       "      <th>Nissan</th>\n",
       "      <td>438199.0</td>\n",
       "      <td>60298.5</td>\n",
       "      <td>6</td>\n",
       "    </tr>\n",
       "    <tr>\n",
       "      <th>Volkswagen</th>\n",
       "      <td>458949.5</td>\n",
       "      <td>56971.5</td>\n",
       "      <td>6</td>\n",
       "    </tr>\n",
       "    <tr>\n",
       "      <th>Skoda</th>\n",
       "      <td>477499.0</td>\n",
       "      <td>77360.0</td>\n",
       "      <td>7</td>\n",
       "    </tr>\n",
       "    <tr>\n",
       "      <th>Tata</th>\n",
       "      <td>510299.0</td>\n",
       "      <td>24296.0</td>\n",
       "      <td>3</td>\n",
       "    </tr>\n",
       "    <tr>\n",
       "      <th>Ford</th>\n",
       "      <td>516099.0</td>\n",
       "      <td>51161.0</td>\n",
       "      <td>6</td>\n",
       "    </tr>\n",
       "    <tr>\n",
       "      <th>Toyota</th>\n",
       "      <td>674899.0</td>\n",
       "      <td>63932.0</td>\n",
       "      <td>8</td>\n",
       "    </tr>\n",
       "    <tr>\n",
       "      <th>Mahindra</th>\n",
       "      <td>835000.0</td>\n",
       "      <td>49726.0</td>\n",
       "      <td>5</td>\n",
       "    </tr>\n",
       "    <tr>\n",
       "      <th>Volvo</th>\n",
       "      <td>1207999.0</td>\n",
       "      <td>52968.0</td>\n",
       "      <td>7</td>\n",
       "    </tr>\n",
       "    <tr>\n",
       "      <th>Mercedes</th>\n",
       "      <td>1288000.0</td>\n",
       "      <td>66096.0</td>\n",
       "      <td>8</td>\n",
       "    </tr>\n",
       "    <tr>\n",
       "      <th>Audi</th>\n",
       "      <td>1479599.0</td>\n",
       "      <td>69074.0</td>\n",
       "      <td>7</td>\n",
       "    </tr>\n",
       "    <tr>\n",
       "      <th>KIA</th>\n",
       "      <td>1517000.0</td>\n",
       "      <td>12872.0</td>\n",
       "      <td>1</td>\n",
       "    </tr>\n",
       "    <tr>\n",
       "      <th>BMW</th>\n",
       "      <td>1535099.0</td>\n",
       "      <td>79219.0</td>\n",
       "      <td>8</td>\n",
       "    </tr>\n",
       "    <tr>\n",
       "      <th>Jaguar</th>\n",
       "      <td>1937749.5</td>\n",
       "      <td>62833.0</td>\n",
       "      <td>7</td>\n",
       "    </tr>\n",
       "  </tbody>\n",
       "</table>\n",
       "</div>"
      ],
      "text/plain": [
       "            Price_cleaned  Kilometers_cleaned  Year_cleaned\n",
       "Brand                                                      \n",
       "Chevrolet        165000.0             70931.0             8\n",
       "Maruti           334799.0             20297.5             5\n",
       "Renault          352599.0             26665.0             4\n",
       "Hyundai          407499.0             26834.5             6\n",
       "Honda            427499.0             47022.0             7\n",
       "Nissan           438199.0             60298.5             6\n",
       "Volkswagen       458949.5             56971.5             6\n",
       "Skoda            477499.0             77360.0             7\n",
       "Tata             510299.0             24296.0             3\n",
       "Ford             516099.0             51161.0             6\n",
       "Toyota           674899.0             63932.0             8\n",
       "Mahindra         835000.0             49726.0             5\n",
       "Volvo           1207999.0             52968.0             7\n",
       "Mercedes        1288000.0             66096.0             8\n",
       "Audi            1479599.0             69074.0             7\n",
       "KIA             1517000.0             12872.0             1\n",
       "BMW             1535099.0             79219.0             8\n",
       "Jaguar          1937749.5             62833.0             7"
      ]
     },
     "execution_count": 22,
     "metadata": {},
     "output_type": "execute_result"
    }
   ],
   "source": [
    "car.groupby('Brand')[['Price_cleaned','Kilometers_cleaned', 'Year_cleaned']].median().sort_values('Price_cleaned')"
   ]
  },
  {
   "cell_type": "markdown",
   "metadata": {},
   "source": [
    "Out of this observation Tata would provide a better used car experience as the normal age of car would be 3 years and 510299 would also be a good price point to consider."
   ]
  },
  {
   "cell_type": "markdown",
   "metadata": {},
   "source": [
    "We will now encode categorical columns so that we can pass them through ML Algorithms. We will use LabelEncoder. "
   ]
  },
  {
   "cell_type": "code",
   "execution_count": 23,
   "metadata": {},
   "outputs": [],
   "source": [
    "from sklearn.preprocessing import LabelEncoder\n",
    "le= LabelEncoder()"
   ]
  },
  {
   "cell_type": "code",
   "execution_count": 24,
   "metadata": {},
   "outputs": [
    {
     "data": {
      "text/plain": [
       "Index(['Brand', 'Model', 'Variant', 'Fuel', 'Number_of_owners', 'Location',\n",
       "       'Transmission', 'Kilometers_cleaned', 'Price_cleaned', 'Year_cleaned'],\n",
       "      dtype='object')"
      ]
     },
     "execution_count": 24,
     "metadata": {},
     "output_type": "execute_result"
    }
   ],
   "source": [
    "car.columns"
   ]
  },
  {
   "cell_type": "code",
   "execution_count": 25,
   "metadata": {},
   "outputs": [],
   "source": [
    "categorical = ['Brand', 'Model', 'Variant', 'Fuel', 'Number_of_owners', 'Location','Transmission']"
   ]
  },
  {
   "cell_type": "code",
   "execution_count": 26,
   "metadata": {},
   "outputs": [],
   "source": [
    "for column in categorical:\n",
    "    car[column] = le.fit_transform(car[column])"
   ]
  },
  {
   "cell_type": "code",
   "execution_count": 27,
   "metadata": {},
   "outputs": [],
   "source": [
    "x= car.drop('Price_cleaned', axis=1)\n",
    "y= car['Price_cleaned']"
   ]
  },
  {
   "cell_type": "code",
   "execution_count": 28,
   "metadata": {},
   "outputs": [],
   "source": [
    "from sklearn.preprocessing import StandardScaler\n",
    "ss = StandardScaler()\n",
    "x = ss.fit_transform(x)"
   ]
  },
  {
   "cell_type": "markdown",
   "metadata": {},
   "source": [
    "# MODEL BUILDING"
   ]
  },
  {
   "cell_type": "markdown",
   "metadata": {},
   "source": [
    "## Finding the best random state for the model"
   ]
  },
  {
   "cell_type": "code",
   "execution_count": 29,
   "metadata": {},
   "outputs": [],
   "source": [
    "from sklearn.model_selection import train_test_split\n",
    "from sklearn.metrics import mean_squared_error, mean_absolute_error, r2_score\n",
    "\n",
    "from sklearn.linear_model import LinearRegression\n",
    "from sklearn.tree import DecisionTreeRegressor\n",
    "from sklearn.ensemble import RandomForestRegressor\n",
    "from sklearn.neighbors import KNeighborsRegressor\n",
    "from sklearn.svm import SVR\n",
    "from sklearn.ensemble import AdaBoostRegressor\n",
    "from sklearn.ensemble import GradientBoostingRegressor"
   ]
  },
  {
   "cell_type": "code",
   "execution_count": 30,
   "metadata": {},
   "outputs": [
    {
     "name": "stdout",
     "output_type": "stream",
     "text": [
      "Best accuracy is 0.5221915492291604 on random state 40\n"
     ]
    }
   ],
   "source": [
    "maxAccu = 0\n",
    "maxRS = 0\n",
    "\n",
    "for i in range(0,200):\n",
    "    x_train,x_test,y_train,y_test = train_test_split(x,y,test_size=0.20,random_state=i)\n",
    "    lr = LinearRegression()\n",
    "    lr.fit(x_train,y_train)\n",
    "    pred = lr.predict(x_test)\n",
    "    accu = r2_score(y_test,pred)\n",
    "    \n",
    "    if accu > maxAccu:\n",
    "        maxAccu = accu\n",
    "        maxRS = i\n",
    "print(\"Best accuracy is\",maxAccu,\"on random state\",maxRS)"
   ]
  },
  {
   "cell_type": "code",
   "execution_count": 31,
   "metadata": {},
   "outputs": [],
   "source": [
    "x_train,x_test,y_train,y_test = train_test_split(x,y,test_size=0.20,random_state=40)"
   ]
  },
  {
   "cell_type": "code",
   "execution_count": 32,
   "metadata": {},
   "outputs": [
    {
     "name": "stdout",
     "output_type": "stream",
     "text": [
      "mean_squared_error: 110654166570.68353\n",
      "mean_absolute_error: 242788.96694069816\n",
      "r2_score: 0.5221915492291604\n",
      "0.31325030288925926\n"
     ]
    }
   ],
   "source": [
    "lr = LinearRegression()\n",
    "lr.fit(x_train,y_train)\n",
    "pred=lr.predict(x_test)\n",
    "print(\"mean_squared_error:\",mean_squared_error(y_test,pred))\n",
    "print(\"mean_absolute_error:\",mean_absolute_error(y_test,pred))\n",
    "print(\"r2_score:\",r2_score(y_test,pred))\n",
    "print(lr.score(x_train,y_train))"
   ]
  },
  {
   "cell_type": "code",
   "execution_count": 33,
   "metadata": {},
   "outputs": [
    {
     "name": "stdout",
     "output_type": "stream",
     "text": [
      "mean_squared_error: 38569202158.81047\n",
      "mean_absolute_error: 85470.05735660848\n",
      "r2_score: 0.8334568746745139\n",
      "0.999999898169369\n"
     ]
    }
   ],
   "source": [
    "dt = DecisionTreeRegressor()\n",
    "dt.fit(x_train,y_train)\n",
    "pred = dt.predict(x_test)\n",
    "print(\"mean_squared_error:\",mean_squared_error(y_test,pred))\n",
    "print(\"mean_absolute_error:\",mean_absolute_error(y_test,pred))\n",
    "print(\"r2_score:\",r2_score(y_test,pred))\n",
    "print(dt.score(x_train,y_train))"
   ]
  },
  {
   "cell_type": "code",
   "execution_count": 34,
   "metadata": {},
   "outputs": [
    {
     "name": "stdout",
     "output_type": "stream",
     "text": [
      "mean_squared_error: 21013378521.557026\n",
      "mean_absolute_error: 78432.70866167913\n",
      "r2_score: 0.9092635176061552\n",
      "0.9886824358698414\n"
     ]
    }
   ],
   "source": [
    "rf = RandomForestRegressor()\n",
    "rf.fit(x_train,y_train)\n",
    "pred = rf.predict(x_test)\n",
    "print(\"mean_squared_error:\",mean_squared_error(y_test,pred))\n",
    "print(\"mean_absolute_error:\",mean_absolute_error(y_test,pred))\n",
    "print(\"r2_score:\",r2_score(y_test,pred))\n",
    "print(rf.score(x_train,y_train))"
   ]
  },
  {
   "cell_type": "code",
   "execution_count": 35,
   "metadata": {},
   "outputs": [
    {
     "name": "stdout",
     "output_type": "stream",
     "text": [
      "mean_squared_error: 78633459732.6394\n",
      "mean_absolute_error: 165332.53366583542\n",
      "r2_score: 0.6604580492718852\n",
      "0.7291478026507958\n"
     ]
    }
   ],
   "source": [
    "kn = KNeighborsRegressor()\n",
    "kn.fit(x_train,y_train)\n",
    "pred = kn.predict(x_test)\n",
    "print(\"mean_squared_error:\",mean_squared_error(y_test,pred))\n",
    "print(\"mean_absolute_error:\",mean_absolute_error(y_test,pred))\n",
    "print(\"r2_score:\",r2_score(y_test,pred))\n",
    "print(kn.score(x_train,y_train))"
   ]
  },
  {
   "cell_type": "code",
   "execution_count": 36,
   "metadata": {},
   "outputs": [
    {
     "name": "stdout",
     "output_type": "stream",
     "text": [
      "mean_squared_error: 260922995444.51953\n",
      "mean_absolute_error: 317877.3980862304\n",
      "r2_score: -0.12667435929035165\n",
      "-0.11616297300253309\n"
     ]
    }
   ],
   "source": [
    "sv = SVR()\n",
    "sv.fit(x_train,y_train)\n",
    "pred = sv.predict(x_test)\n",
    "print(\"mean_squared_error:\",mean_squared_error(y_test,pred))\n",
    "print(\"mean_absolute_error:\",mean_absolute_error(y_test,pred))\n",
    "print(\"r2_score:\",r2_score(y_test,pred))\n",
    "print(sv.score(x_train,y_train))"
   ]
  },
  {
   "cell_type": "code",
   "execution_count": 37,
   "metadata": {},
   "outputs": [
    {
     "name": "stdout",
     "output_type": "stream",
     "text": [
      "mean_squared_error: 126624918913.78046\n",
      "mean_absolute_error: 303723.36086382647\n",
      "r2_score: 0.4532292979991047\n",
      "0.5804474157006307\n"
     ]
    }
   ],
   "source": [
    "ab = AdaBoostRegressor()\n",
    "ab.fit(x_train,y_train)\n",
    "pred=ab.predict(x_test)\n",
    "print(\"mean_squared_error:\",mean_squared_error(y_test,pred))\n",
    "print(\"mean_absolute_error:\",mean_absolute_error(y_test,pred))\n",
    "print(\"r2_score:\",r2_score(y_test,pred))\n",
    "print(ab.score(x_train,y_train))"
   ]
  },
  {
   "cell_type": "code",
   "execution_count": 38,
   "metadata": {},
   "outputs": [
    {
     "name": "stdout",
     "output_type": "stream",
     "text": [
      "mean_squared_error: 32903867651.34039\n",
      "mean_absolute_error: 125252.05229843046\n",
      "r2_score: 0.8579199815597276\n",
      "0.9143026404300121\n"
     ]
    }
   ],
   "source": [
    "gb = GradientBoostingRegressor()\n",
    "gb.fit(x_train,y_train)\n",
    "pred=gb.predict(x_test)\n",
    "print(\"mean_squared_error:\",mean_squared_error(y_test,pred))\n",
    "print(\"mean_absolute_error:\",mean_absolute_error(y_test,pred))\n",
    "print(\"r2_score:\",r2_score(y_test,pred))\n",
    "print(gb.score(x_train,y_train))"
   ]
  },
  {
   "cell_type": "markdown",
   "metadata": {},
   "source": [
    "DecisionTreeRegressor, RandomForestRegressor and GradientBoostingRegressor performed well."
   ]
  },
  {
   "cell_type": "markdown",
   "metadata": {},
   "source": [
    "## Crossvalidation"
   ]
  },
  {
   "cell_type": "code",
   "execution_count": 39,
   "metadata": {},
   "outputs": [],
   "source": [
    "from sklearn.model_selection import cross_val_score"
   ]
  },
  {
   "cell_type": "code",
   "execution_count": 40,
   "metadata": {},
   "outputs": [
    {
     "name": "stdout",
     "output_type": "stream",
     "text": [
      "Cross validation score of Linear Regression: 0.30685328584691424\n"
     ]
    }
   ],
   "source": [
    "lrc = cross_val_score(lr, x, y, cv=5)\n",
    "\n",
    "print(\"Cross validation score of Linear Regression:\", lrc.mean())"
   ]
  },
  {
   "cell_type": "code",
   "execution_count": 41,
   "metadata": {},
   "outputs": [
    {
     "name": "stdout",
     "output_type": "stream",
     "text": [
      "Cross validation score of Random Forest: 0.8669406123983198\n"
     ]
    }
   ],
   "source": [
    "rfc = cross_val_score(rf, x, y, cv=5)\n",
    "\n",
    "print(\"Cross validation score of Random Forest:\", rfc.mean())"
   ]
  },
  {
   "cell_type": "code",
   "execution_count": 42,
   "metadata": {},
   "outputs": [
    {
     "name": "stdout",
     "output_type": "stream",
     "text": [
      "Cross validation score of Decision Tree : 0.7541927208246693\n"
     ]
    }
   ],
   "source": [
    "dtc = cross_val_score(dt, x, y, cv=5)\n",
    "\n",
    "print(\"Cross validation score of Decision Tree :\", dtc.mean())"
   ]
  },
  {
   "cell_type": "code",
   "execution_count": 43,
   "metadata": {},
   "outputs": [
    {
     "name": "stdout",
     "output_type": "stream",
     "text": [
      "Cross validation score of Kneigbors: 0.4734659305765835\n"
     ]
    }
   ],
   "source": [
    "knc = cross_val_score(kn, x, y, cv=5)\n",
    "\n",
    "print(\"Cross validation score of Kneigbors:\", knc.mean())"
   ]
  },
  {
   "cell_type": "code",
   "execution_count": 44,
   "metadata": {},
   "outputs": [
    {
     "name": "stdout",
     "output_type": "stream",
     "text": [
      "Cross validation score of Support Vector: -0.1308344512381959\n"
     ]
    }
   ],
   "source": [
    "svc1 = cross_val_score(sv, x, y, cv=5)\n",
    "\n",
    "print(\"Cross validation score of Support Vector:\", svc1.mean())"
   ]
  },
  {
   "cell_type": "code",
   "execution_count": 45,
   "metadata": {},
   "outputs": [
    {
     "name": "stdout",
     "output_type": "stream",
     "text": [
      "Cross validation score of AdaBoost: 0.40412434910392997\n"
     ]
    }
   ],
   "source": [
    "adr = cross_val_score(ab, x, y, cv=5)\n",
    "\n",
    "print(\"Cross validation score of AdaBoost:\", adr.mean())"
   ]
  },
  {
   "cell_type": "code",
   "execution_count": 46,
   "metadata": {},
   "outputs": [
    {
     "name": "stdout",
     "output_type": "stream",
     "text": [
      "Cross validation score of GradientBoost: 0.8121431206088896\n"
     ]
    }
   ],
   "source": [
    "gbr = cross_val_score(gb, x, y, cv=5)\n",
    "\n",
    "print(\"Cross validation score of GradientBoost:\", gbr.mean())"
   ]
  },
  {
   "cell_type": "markdown",
   "metadata": {},
   "source": [
    "## Hyperparameter Tuning with RandomForest Regression"
   ]
  },
  {
   "cell_type": "code",
   "execution_count": 47,
   "metadata": {},
   "outputs": [],
   "source": [
    "from sklearn.model_selection import RandomizedSearchCV"
   ]
  },
  {
   "cell_type": "code",
   "execution_count": 48,
   "metadata": {},
   "outputs": [],
   "source": [
    "#Creating parameter list to pass in RandomizedSearchCV\n",
    "\n",
    "parameters = {'n_estimators':[10,50,100,150], 'max_depth': np.arange(2,10),\n",
    "             'criterion':['mse','mae'], 'max_features':['auto','sqrt', 'log2']}"
   ]
  },
  {
   "cell_type": "code",
   "execution_count": 52,
   "metadata": {},
   "outputs": [
    {
     "data": {
      "text/plain": [
       "RandomizedSearchCV(cv=5, estimator=RandomForestRegressor(),\n",
       "                   param_distributions={'criterion': ['mse', 'mae'],\n",
       "                                        'max_depth': array([2, 3, 4, 5, 6, 7, 8, 9]),\n",
       "                                        'max_features': ['auto', 'sqrt',\n",
       "                                                         'log2'],\n",
       "                                        'n_estimators': [10, 50, 100, 150]})"
      ]
     },
     "execution_count": 52,
     "metadata": {},
     "output_type": "execute_result"
    }
   ],
   "source": [
    "GCV = RandomizedSearchCV(RandomForestRegressor(), parameters, cv=5)\n",
    "GCV.fit(x_train,y_train)"
   ]
  },
  {
   "cell_type": "code",
   "execution_count": 53,
   "metadata": {},
   "outputs": [
    {
     "data": {
      "text/plain": [
       "{'n_estimators': 150,\n",
       " 'max_features': 'auto',\n",
       " 'max_depth': 9,\n",
       " 'criterion': 'mse'}"
      ]
     },
     "execution_count": 53,
     "metadata": {},
     "output_type": "execute_result"
    }
   ],
   "source": [
    "#Printing the best parameters.\n",
    "GCV.best_params_"
   ]
  },
  {
   "cell_type": "markdown",
   "metadata": {},
   "source": [
    "## Model with RandomForest Regression"
   ]
  },
  {
   "cell_type": "code",
   "execution_count": 54,
   "metadata": {},
   "outputs": [
    {
     "name": "stdout",
     "output_type": "stream",
     "text": [
      "mean_squared_error: 24385829213.66408\n",
      "mean_absolute_error: 94309.4190645737\n",
      "r2_score: 0.8947011609373043\n",
      "97.40765129201061\n"
     ]
    }
   ],
   "source": [
    "model = RandomForestRegressor(n_estimators=150, criterion='mse', max_depth=9, max_features='auto')\n",
    "model.fit(x_train,y_train)\n",
    "pred = model.predict(x_test)\n",
    "print(\"mean_squared_error:\",mean_squared_error(y_test,pred))\n",
    "print(\"mean_absolute_error:\",mean_absolute_error(y_test,pred))\n",
    "print(\"r2_score:\",r2_score(y_test,pred))\n",
    "print(model.score(x_train,y_train)*100)"
   ]
  },
  {
   "cell_type": "markdown",
   "metadata": {},
   "source": [
    "## Hyperparameter Tuning with Gradient Boosting Regression"
   ]
  },
  {
   "cell_type": "code",
   "execution_count": 55,
   "metadata": {},
   "outputs": [],
   "source": [
    "#Creating parameter list to pass in RandomizedSearchCV\n",
    "\n",
    "parameters = {'n_estimators':[10,50,100,150], 'max_depth': np.arange(2,10),\n",
    "             'criterion':['friedman_mse','mse','mae'], 'max_features':['auto','sqrt', 'log2'],\n",
    "              'loss':['ls', 'lad', 'huber', 'quantile']}"
   ]
  },
  {
   "cell_type": "code",
   "execution_count": 56,
   "metadata": {},
   "outputs": [
    {
     "data": {
      "text/plain": [
       "RandomizedSearchCV(cv=5, estimator=GradientBoostingRegressor(),\n",
       "                   param_distributions={'criterion': ['friedman_mse', 'mse',\n",
       "                                                      'mae'],\n",
       "                                        'loss': ['ls', 'lad', 'huber',\n",
       "                                                 'quantile'],\n",
       "                                        'max_depth': array([2, 3, 4, 5, 6, 7, 8, 9]),\n",
       "                                        'max_features': ['auto', 'sqrt',\n",
       "                                                         'log2'],\n",
       "                                        'n_estimators': [10, 50, 100, 150]})"
      ]
     },
     "execution_count": 56,
     "metadata": {},
     "output_type": "execute_result"
    }
   ],
   "source": [
    "GCV = RandomizedSearchCV(GradientBoostingRegressor(), parameters, cv=5)\n",
    "GCV.fit(x_train,y_train)"
   ]
  },
  {
   "cell_type": "code",
   "execution_count": 57,
   "metadata": {},
   "outputs": [
    {
     "data": {
      "text/plain": [
       "{'n_estimators': 150,\n",
       " 'max_features': 'log2',\n",
       " 'max_depth': 4,\n",
       " 'loss': 'ls',\n",
       " 'criterion': 'mse'}"
      ]
     },
     "execution_count": 57,
     "metadata": {},
     "output_type": "execute_result"
    }
   ],
   "source": [
    "#Printing the best parameters.\n",
    "GCV.best_params_"
   ]
  },
  {
   "cell_type": "markdown",
   "metadata": {},
   "source": [
    "## Model with Gradient Boosting  Regression"
   ]
  },
  {
   "cell_type": "code",
   "execution_count": 58,
   "metadata": {},
   "outputs": [
    {
     "name": "stdout",
     "output_type": "stream",
     "text": [
      "mean_squared_error: 24385829213.66408\n",
      "mean_absolute_error: 94309.4190645737\n",
      "r2_score: 0.8947011609373043\n",
      "97.19454874069623\n"
     ]
    }
   ],
   "source": [
    "model1 = GradientBoostingRegressor(n_estimators=150, criterion='mse', max_depth=4, max_features='log2',loss='ls')\n",
    "model1.fit(x_train,y_train)\n",
    "pred1 = model1.predict(x_test)\n",
    "print(\"mean_squared_error:\",mean_squared_error(y_test,pred))\n",
    "print(\"mean_absolute_error:\",mean_absolute_error(y_test,pred))\n",
    "print(\"r2_score:\",r2_score(y_test,pred))\n",
    "print(model1.score(x_train,y_train)*100)"
   ]
  },
  {
   "cell_type": "markdown",
   "metadata": {},
   "source": [
    "Both  model performed well and output are same. We will save model with random forest."
   ]
  },
  {
   "cell_type": "markdown",
   "metadata": {},
   "source": [
    "# SAVING THE MODEL"
   ]
  },
  {
   "cell_type": "code",
   "execution_count": 59,
   "metadata": {},
   "outputs": [
    {
     "data": {
      "text/plain": [
       "['car_price_prediction_submission.pkl']"
      ]
     },
     "execution_count": 59,
     "metadata": {},
     "output_type": "execute_result"
    }
   ],
   "source": [
    "import joblib\n",
    "joblib.dump(model,\"car_price_prediction_submission.pkl\")"
   ]
  },
  {
   "cell_type": "code",
   "execution_count": null,
   "metadata": {},
   "outputs": [],
   "source": []
  }
 ],
 "metadata": {
  "kernelspec": {
   "display_name": "Python 3",
   "language": "python",
   "name": "python3"
  },
  "language_info": {
   "codemirror_mode": {
    "name": "ipython",
    "version": 3
   },
   "file_extension": ".py",
   "mimetype": "text/x-python",
   "name": "python",
   "nbconvert_exporter": "python",
   "pygments_lexer": "ipython3",
   "version": "3.8.5"
  }
 },
 "nbformat": 4,
 "nbformat_minor": 4
}
