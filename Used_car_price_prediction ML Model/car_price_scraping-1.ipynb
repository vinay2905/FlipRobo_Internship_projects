{
 "cells": [
  {
   "cell_type": "code",
   "execution_count": 1,
   "metadata": {},
   "outputs": [],
   "source": [
    "import selenium\n",
    "import pandas as pd\n",
    "import time\n",
    "from selenium import webdriver\n",
    "from selenium.common.exceptions import NoSuchElementException"
   ]
  },
  {
   "cell_type": "code",
   "execution_count": 2,
   "metadata": {},
   "outputs": [],
   "source": [
    "from selenium.webdriver.common.keys import Keys"
   ]
  },
  {
   "cell_type": "code",
   "execution_count": 3,
   "metadata": {},
   "outputs": [],
   "source": [
    "driver = webdriver.Chrome(r\"C:\\Users\\vinay\\OneDrive\\Desktop\\FlipRobo\\Selenium\\chromedriver_win32\\chromedriver.exe\")\n",
    "time.sleep(3)\n",
    "driver.maximize_window()"
   ]
  },
  {
   "cell_type": "code",
   "execution_count": 4,
   "metadata": {},
   "outputs": [],
   "source": [
    "brands = ['Maruti', 'Honda', 'Hyundai', 'Tata', 'Toyota', 'Volkswagen', 'Nissan', 'Renault', 'Ford', 'Mahindra',\n",
    "          'Audi', 'Mercedes-Benz', 'BMW', 'Volvo', 'Skoda', 'Chevrolet', 'Jaguar','Kia']"
   ]
  },
  {
   "cell_type": "markdown",
   "metadata": {},
   "source": [
    "These are the brands, cities and segments that we need data of. We will target 3 popolar websites (Olx, cardekho, Cars24) to retrive or scrape the data. I will be targeting data of used cars targetting the brands then models also collecting all the required information. We will  "
   ]
  },
  {
   "cell_type": "code",
   "execution_count": 5,
   "metadata": {},
   "outputs": [],
   "source": [
    "cars24 = 'https://www.cars24.com/buy-used-cars-hyderabad/?itm_source=Cars24Website&itm_medium=sticky_header'"
   ]
  },
  {
   "cell_type": "code",
   "execution_count": 10,
   "metadata": {},
   "outputs": [],
   "source": [
    "brand=[]\n",
    "model=[]\n",
    "variant=[]\n",
    "year=[]\n",
    "kilometers=[]\n",
    "fuel=[]\n",
    "number_of_owners=[]\n",
    "location=[]\n",
    "price=[]\n",
    "transmission=[]"
   ]
  },
  {
   "cell_type": "markdown",
   "metadata": {},
   "source": [
    "These would be our columns and we will scrape data for these columns"
   ]
  },
  {
   "cell_type": "markdown",
   "metadata": {},
   "source": [
    "# Cardekho"
   ]
  },
  {
   "cell_type": "code",
   "execution_count": 11,
   "metadata": {},
   "outputs": [],
   "source": [
    "driver.get(cars24)"
   ]
  },
  {
   "cell_type": "code",
   "execution_count": 8,
   "metadata": {},
   "outputs": [],
   "source": [
    "def join_string(list_string):\n",
    "  \n",
    "    # Join the string based on '-' delimiter\n",
    "    string = ''.join(list_string)\n",
    "      \n",
    "    return string"
   ]
  },
  {
   "cell_type": "code",
   "execution_count": 12,
   "metadata": {},
   "outputs": [],
   "source": [
    "for m in range(0,10): ##Iterating over locations(cities)\n",
    "    driver.find_element_by_xpath(\"//p[@class='_1OR7d']/span\").click() ##Location search\n",
    "    time.sleep(2)\n",
    "    loc_buttons = driver.find_elements_by_xpath(\"//ul[@class='_16Bvy']/li/span\")\n",
    "    loc_buttons[m].click()\n",
    "\n",
    "    for k in brands: ##Iterating over brands       \n",
    "        search_bar = driver.find_element_by_xpath(\"//div[@class='css-1pcexqc-container search-select-container auto-complete-search']/div/div/div/div/input\")\n",
    "        search_bar.send_keys(Keys.CONTROL + \"a\")\n",
    "        search_bar.send_keys(k, Keys.ENTER)\n",
    "        time.sleep(3)\n",
    "\n",
    "        for _ in range(1000):\n",
    "            driver.execute_script(\"window.scrollBy(0,100000)\")\n",
    "\n",
    "        time.sleep(4)\n",
    "        \n",
    "        both=[]\n",
    "\n",
    "        try:\n",
    "            year_name = driver.find_elements_by_xpath(\"//h2[@class='_3FpCg']\")\n",
    "            for i in year_name:\n",
    "                both.append(i.text)\n",
    "\n",
    "            time.sleep(1)\n",
    "\n",
    "            for i in both:\n",
    "                year.append(i.split()[0])\n",
    "                brand.append(i.split()[1])\n",
    "                model.append(join_string(i.split()[2:]))\n",
    "        except:\n",
    "            year.append('-')\n",
    "            brand.append('-')\n",
    "            model.append('-')\n",
    "\n",
    "        try:\n",
    "            variants= driver.find_elements_by_xpath(\"//p[@class='cvakB']\")\n",
    "            for i in variants:\n",
    "                variant.append(i.text.split()[0])\n",
    "                transmission.append(i.text.split()[-1])\n",
    "        except:\n",
    "            variant.append('-')\n",
    "            transmission.append('-')\n",
    "\n",
    "        try:\n",
    "            km = driver.find_elements_by_xpath(\"//ul[@class='bVR0c']/li[1]\")\n",
    "            for i in km:\n",
    "                kilometers.append(i.text)\n",
    "        except:\n",
    "            kilometers.append('-')\n",
    "\n",
    "        try:\n",
    "            own = driver.find_elements_by_xpath(\"//ul[@class='bVR0c']/li[2]\")\n",
    "            for i in own:\n",
    "                number_of_owners.append(i.text)\n",
    "        except:\n",
    "            number_of_owners.append('-')\n",
    "\n",
    "        try:\n",
    "            fuel_veh = driver.find_elements_by_xpath(\"//ul[@class='bVR0c']/li[3]\")\n",
    "            for i in fuel_veh:\n",
    "                fuel.append(i.text)\n",
    "        except:\n",
    "            fuel.append('-') \n",
    "\n",
    "        try:\n",
    "            amt = driver.find_elements_by_xpath(\"//div[@class='_7udZZ']/span\")\n",
    "            for i in amt:\n",
    "                price.append(i.text)\n",
    "        except:\n",
    "            price.append('-')\n",
    "        location_list = []\n",
    "        loc_name = driver.find_element_by_xpath(\"//p[@class='_1OR7d']/label\").text   \n",
    "        location_list = [loc_name] * len(fuel_veh)\n",
    "        location.append(location_list)"
   ]
  },
  {
   "cell_type": "code",
   "execution_count": 16,
   "metadata": {},
   "outputs": [],
   "source": [
    "flat_list = [item for sublist in location for item in sublist]"
   ]
  },
  {
   "cell_type": "code",
   "execution_count": 18,
   "metadata": {},
   "outputs": [],
   "source": [
    "car_price = pd.DataFrame({})\n",
    "\n",
    "car_price['Brand'] = brand\n",
    "car_price['Model'] = model\n",
    "car_price['Variant'] = variant\n",
    "car_price['Year'] = year\n",
    "car_price['Kilometers'] = kilometers\n",
    "car_price['Fuel'] = fuel\n",
    "car_price['Number_of_owners'] = number_of_owners\n",
    "car_price['Location'] = flat_list\n",
    "car_price['Transmission'] = transmission\n",
    "car_price['Price'] = price"
   ]
  },
  {
   "cell_type": "code",
   "execution_count": 28,
   "metadata": {},
   "outputs": [],
   "source": [
    "car_price.to_excel(\"Used_car_data1.xlsx\")"
   ]
  },
  {
   "cell_type": "code",
   "execution_count": null,
   "metadata": {},
   "outputs": [],
   "source": []
  }
 ],
 "metadata": {
  "kernelspec": {
   "display_name": "Python 3",
   "language": "python",
   "name": "python3"
  },
  "language_info": {
   "codemirror_mode": {
    "name": "ipython",
    "version": 3
   },
   "file_extension": ".py",
   "mimetype": "text/x-python",
   "name": "python",
   "nbconvert_exporter": "python",
   "pygments_lexer": "ipython3",
   "version": "3.8.5"
  }
 },
 "nbformat": 4,
 "nbformat_minor": 4
}
